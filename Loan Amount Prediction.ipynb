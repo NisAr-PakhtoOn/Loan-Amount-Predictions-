{
 "cells": [
  {
   "cell_type": "markdown",
   "id": "29600ffd",
   "metadata": {},
   "source": [
    "### Loan Amount Prediction \n",
    "\n",
    "The Goal of the project is to predict the amount of loan given to the customers based on all the features\n",
    "\n",
    "### Importing Libraries"
   ]
  },
  {
   "cell_type": "code",
   "execution_count": 1,
   "id": "a8a1053b",
   "metadata": {},
   "outputs": [],
   "source": [
    "import pandas as pd\n",
    "import numpy as np\n",
    "import matplotlib.pyplot as plt\n",
    "import seaborn as sns\n",
    "%matplotlib inline"
   ]
  },
  {
   "cell_type": "code",
   "execution_count": 2,
   "id": "8ffe2433",
   "metadata": {},
   "outputs": [],
   "source": [
    "train = pd.read_csv('train.csv')\n",
    "test = pd.read_csv('test.csv')\n",
    "ID = test['Customer ID']\n",
    "train = train.reset_index()\n",
    "test = test.reset_index()"
   ]
  },
  {
   "cell_type": "code",
   "execution_count": 3,
   "id": "a203a736",
   "metadata": {
    "scrolled": true
   },
   "outputs": [
    {
     "data": {
      "text/html": [
       "<div><div id=6d7d900d-adb0-4b80-a925-3a731c482688 style=\"display:none; background-color:#9D6CFF; color:white; width:200px; height:30px; padding-left:5px; border-radius:4px; flex-direction:row; justify-content:space-around; align-items:center;\" onmouseover=\"this.style.backgroundColor='#BA9BF8'\" onmouseout=\"this.style.backgroundColor='#9D6CFF'\" onclick=\"window.commands?.execute('create-mitosheet-from-dataframe-output');\">See Full Dataframe in Mito</div> <script> if (window.commands?.hasCommand('create-mitosheet-from-dataframe-output')) document.getElementById('6d7d900d-adb0-4b80-a925-3a731c482688').style.display = 'flex' </script> <table border=\"1\" class=\"dataframe\">\n",
       "  <thead>\n",
       "    <tr style=\"text-align: right;\">\n",
       "      <th></th>\n",
       "      <th>index</th>\n",
       "      <th>Customer ID</th>\n",
       "      <th>Name</th>\n",
       "      <th>Gender</th>\n",
       "      <th>Age</th>\n",
       "      <th>Income (USD)</th>\n",
       "      <th>Income Stability</th>\n",
       "      <th>Profession</th>\n",
       "      <th>Type of Employment</th>\n",
       "      <th>Location</th>\n",
       "      <th>...</th>\n",
       "      <th>Credit Score</th>\n",
       "      <th>No. of Defaults</th>\n",
       "      <th>Has Active Credit Card</th>\n",
       "      <th>Property ID</th>\n",
       "      <th>Property Age</th>\n",
       "      <th>Property Type</th>\n",
       "      <th>Property Location</th>\n",
       "      <th>Co-Applicant</th>\n",
       "      <th>Property Price</th>\n",
       "      <th>Loan Amount</th>\n",
       "    </tr>\n",
       "  </thead>\n",
       "  <tbody>\n",
       "    <tr>\n",
       "      <th>0</th>\n",
       "      <td>0</td>\n",
       "      <td>C-45418</td>\n",
       "      <td>Kristeen Brasfield</td>\n",
       "      <td>F</td>\n",
       "      <td>18</td>\n",
       "      <td>3563.37</td>\n",
       "      <td>Low</td>\n",
       "      <td>Working</td>\n",
       "      <td>NaN</td>\n",
       "      <td>Semi-Urban</td>\n",
       "      <td>...</td>\n",
       "      <td>813.46</td>\n",
       "      <td>0</td>\n",
       "      <td>Active</td>\n",
       "      <td>300</td>\n",
       "      <td>3563.37</td>\n",
       "      <td>4</td>\n",
       "      <td>Urban</td>\n",
       "      <td>1</td>\n",
       "      <td>103386.96</td>\n",
       "      <td>0.00</td>\n",
       "    </tr>\n",
       "    <tr>\n",
       "      <th>1</th>\n",
       "      <td>1</td>\n",
       "      <td>C-40631</td>\n",
       "      <td>Britteny Newhall</td>\n",
       "      <td>M</td>\n",
       "      <td>18</td>\n",
       "      <td>945.97</td>\n",
       "      <td>Low</td>\n",
       "      <td>Working</td>\n",
       "      <td>Core staff</td>\n",
       "      <td>Rural</td>\n",
       "      <td>...</td>\n",
       "      <td>714.64</td>\n",
       "      <td>0</td>\n",
       "      <td>Active</td>\n",
       "      <td>468</td>\n",
       "      <td>945.97</td>\n",
       "      <td>1</td>\n",
       "      <td>Semi-Urban</td>\n",
       "      <td>1</td>\n",
       "      <td>68821.86</td>\n",
       "      <td>27067.87</td>\n",
       "    </tr>\n",
       "    <tr>\n",
       "      <th>2</th>\n",
       "      <td>2</td>\n",
       "      <td>C-2792</td>\n",
       "      <td>Angelyn Kos</td>\n",
       "      <td>F</td>\n",
       "      <td>65</td>\n",
       "      <td>1214.89</td>\n",
       "      <td>High</td>\n",
       "      <td>Pensioner</td>\n",
       "      <td>NaN</td>\n",
       "      <td>Semi-Urban</td>\n",
       "      <td>...</td>\n",
       "      <td>882.74</td>\n",
       "      <td>0</td>\n",
       "      <td>Active</td>\n",
       "      <td>435</td>\n",
       "      <td>1214.89</td>\n",
       "      <td>2</td>\n",
       "      <td>Rural</td>\n",
       "      <td>1</td>\n",
       "      <td>132328.05</td>\n",
       "      <td>64067.85</td>\n",
       "    </tr>\n",
       "    <tr>\n",
       "      <th>3</th>\n",
       "      <td>3</td>\n",
       "      <td>C-48860</td>\n",
       "      <td>Gerry Keo</td>\n",
       "      <td>F</td>\n",
       "      <td>21</td>\n",
       "      <td>1387.61</td>\n",
       "      <td>Low</td>\n",
       "      <td>Working</td>\n",
       "      <td>Laborers</td>\n",
       "      <td>Semi-Urban</td>\n",
       "      <td>...</td>\n",
       "      <td>623.82</td>\n",
       "      <td>1</td>\n",
       "      <td>Inactive</td>\n",
       "      <td>260</td>\n",
       "      <td>1387.61</td>\n",
       "      <td>2</td>\n",
       "      <td>Semi-Urban</td>\n",
       "      <td>1</td>\n",
       "      <td>29751.86</td>\n",
       "      <td>0.00</td>\n",
       "    </tr>\n",
       "    <tr>\n",
       "      <th>4</th>\n",
       "      <td>4</td>\n",
       "      <td>C-23070</td>\n",
       "      <td>Zoraida Bean</td>\n",
       "      <td>F</td>\n",
       "      <td>32</td>\n",
       "      <td>1694.64</td>\n",
       "      <td>Low</td>\n",
       "      <td>Working</td>\n",
       "      <td>Accountants</td>\n",
       "      <td>Semi-Urban</td>\n",
       "      <td>...</td>\n",
       "      <td>870.92</td>\n",
       "      <td>1</td>\n",
       "      <td>Active</td>\n",
       "      <td>762</td>\n",
       "      <td>1694.64</td>\n",
       "      <td>1</td>\n",
       "      <td>Rural</td>\n",
       "      <td>1</td>\n",
       "      <td>56422.70</td>\n",
       "      <td>26231.78</td>\n",
       "    </tr>\n",
       "  </tbody>\n",
       "</table></div>"
      ],
      "text/plain": [
       "   index Customer ID                Name Gender  Age  Income (USD)  \\\n",
       "0      0     C-45418  Kristeen Brasfield      F   18       3563.37   \n",
       "1      1     C-40631    Britteny Newhall      M   18        945.97   \n",
       "2      2      C-2792         Angelyn Kos      F   65       1214.89   \n",
       "3      3     C-48860           Gerry Keo      F   21       1387.61   \n",
       "4      4     C-23070        Zoraida Bean      F   32       1694.64   \n",
       "\n",
       "  Income Stability Profession Type of Employment    Location  ...  \\\n",
       "0              Low    Working                NaN  Semi-Urban  ...   \n",
       "1              Low    Working         Core staff       Rural  ...   \n",
       "2             High  Pensioner                NaN  Semi-Urban  ...   \n",
       "3              Low    Working           Laborers  Semi-Urban  ...   \n",
       "4              Low    Working        Accountants  Semi-Urban  ...   \n",
       "\n",
       "   Credit Score  No. of Defaults Has Active Credit Card Property ID  \\\n",
       "0        813.46                0                 Active         300   \n",
       "1        714.64                0                 Active         468   \n",
       "2        882.74                0                 Active         435   \n",
       "3        623.82                1               Inactive         260   \n",
       "4        870.92                1                 Active         762   \n",
       "\n",
       "   Property Age  Property Type  Property Location Co-Applicant  \\\n",
       "0       3563.37              4              Urban            1   \n",
       "1        945.97              1         Semi-Urban            1   \n",
       "2       1214.89              2              Rural            1   \n",
       "3       1387.61              2         Semi-Urban            1   \n",
       "4       1694.64              1              Rural            1   \n",
       "\n",
       "   Property Price  Loan Amount  \n",
       "0       103386.96         0.00  \n",
       "1        68821.86     27067.87  \n",
       "2       132328.05     64067.85  \n",
       "3        29751.86         0.00  \n",
       "4        56422.70     26231.78  \n",
       "\n",
       "[5 rows x 25 columns]"
      ]
     },
     "execution_count": 3,
     "metadata": {},
     "output_type": "execute_result"
    }
   ],
   "source": [
    "train.head()"
   ]
  },
  {
   "cell_type": "code",
   "execution_count": 4,
   "id": "5fbc46dd",
   "metadata": {},
   "outputs": [
    {
     "name": "stdout",
     "output_type": "stream",
     "text": [
      "Train data shape :  (27000, 25)\n",
      "Test data shape :  (3000, 24)\n"
     ]
    }
   ],
   "source": [
    "print('Train data shape : ',train.shape)\n",
    "print('Test data shape : ',test.shape)"
   ]
  },
  {
   "cell_type": "markdown",
   "id": "ad73bd76",
   "metadata": {},
   "source": [
    "### Data Preprocessing\n",
    "We are going to perform the basic data preprocessing \n",
    "\n",
    "#### Checking for null values\n",
    "\n",
    "The first thing we check in the data is NULL values\n",
    "our data have null values, we will have to elimate them"
   ]
  },
  {
   "cell_type": "code",
   "execution_count": 5,
   "id": "911d17ae",
   "metadata": {},
   "outputs": [
    {
     "data": {
      "text/plain": [
       "<AxesSubplot:>"
      ]
     },
     "execution_count": 5,
     "metadata": {},
     "output_type": "execute_result"
    },
    {
     "data": {
      "image/png": "[encoded data removed]",
      "text/plain": [
       "<Figure size 432x288 with 1 Axes>"
      ]
     },
     "metadata": {
      "needs_background": "light"
     },
     "output_type": "display_data"
    }
   ],
   "source": [
    "#Heat map showing values which are not available or null in the train dataset\n",
    "sns.heatmap(train.isnull(),yticklabels=False,cbar=False,cmap='viridis')"
   ]
  },
  {
   "cell_type": "code",
   "execution_count": 6,
   "id": "05ece2e9",
   "metadata": {},
   "outputs": [
    {
     "data": {
      "text/plain": [
       "<AxesSubplot:>"
      ]
     },
     "execution_count": 6,
     "metadata": {},
     "output_type": "execute_result"
    },
    {
     "data": {
      "image/png": "[encoded data removed]",
      "text/plain": [
       "<Figure size 432x288 with 1 Axes>"
      ]
     },
     "metadata": {
      "needs_background": "light"
     },
     "output_type": "display_data"
    }
   ],
   "source": [
    "#Heat map showing values which are not available or null in the test dataset\n",
    "sns.heatmap(test.isnull(),yticklabels=False,cbar=False,cmap='viridis')"
   ]
  },
  {
   "cell_type": "code",
   "execution_count": 7,
   "id": "17e3d02f",
   "metadata": {},
   "outputs": [
    {
     "data": {
      "text/plain": [
       "Semi-Urban    19416\n",
       "Rural          4806\n",
       "Urban          2778\n",
       "Name: Location, dtype: int64"
      ]
     },
     "execution_count": 7,
     "metadata": {},
     "output_type": "execute_result"
    }
   ],
   "source": [
    "# Lets check the locations\n",
    "train['Location'].value_counts()"
   ]
  },
  {
   "cell_type": "code",
   "execution_count": 8,
   "id": "e92bd98d",
   "metadata": {},
   "outputs": [
    {
     "data": {
      "text/plain": [
       "Working                 15251\n",
       "Commercial associate     7129\n",
       "Pensioner                2481\n",
       "State servant            2133\n",
       "Businessman                 2\n",
       "Unemployed                  2\n",
       "Maternity leave             1\n",
       "Student                     1\n",
       "Name: Profession, dtype: int64"
      ]
     },
     "execution_count": 8,
     "metadata": {},
     "output_type": "execute_result"
    }
   ],
   "source": [
    "# Lets check the profession \n",
    "train['Profession'].value_counts()"
   ]
  },
  {
   "cell_type": "code",
   "execution_count": 9,
   "id": "ee8752da",
   "metadata": {},
   "outputs": [
    {
     "data": {
      "text/plain": [
       "Low     23168\n",
       "High     2326\n",
       "Name: Income Stability, dtype: int64"
      ]
     },
     "execution_count": 9,
     "metadata": {},
     "output_type": "execute_result"
    }
   ],
   "source": [
    "# Lets check the income stability, we can see that the number of low income are higher than high income\n",
    "train['Income Stability'].value_counts()"
   ]
  },
  {
   "cell_type": "code",
   "execution_count": 10,
   "id": "dfc0b939",
   "metadata": {},
   "outputs": [
    {
     "data": {
      "text/plain": [
       "Semi-Urban    9357\n",
       "Rural         9041\n",
       "Urban         8295\n",
       "Name: Property Location, dtype: int64"
      ]
     },
     "execution_count": 10,
     "metadata": {},
     "output_type": "execute_result"
    }
   ],
   "source": [
    "# Lets check the locations of properties \n",
    "train['Property Location'].value_counts()"
   ]
  },
  {
   "cell_type": "code",
   "execution_count": 11,
   "id": "35afb3c5",
   "metadata": {},
   "outputs": [
    {
     "data": {
      "text/plain": [
       "<AxesSubplot:>"
      ]
     },
     "execution_count": 11,
     "metadata": {},
     "output_type": "execute_result"
    },
    {
     "data": {
      "image/png": "[encoded data removed]",
      "text/plain": [
       "<Figure size 432x288 with 1 Axes>"
      ]
     },
     "metadata": {
      "needs_background": "light"
     },
     "output_type": "display_data"
    }
   ],
   "source": [
    "# Now lets check the income of each Applicant\n",
    "# Box Plot for understanding the distributions and to observe the outliers.\n",
    "%matplotlib inline\n",
    "# Histogram of variable ApplicantIncome\n",
    "train['Income (USD)'].hist()"
   ]
  },
  {
   "cell_type": "code",
   "execution_count": 12,
   "id": "ab0c8e65",
   "metadata": {},
   "outputs": [
    {
     "data": {
      "text/plain": [
       "<AxesSubplot:>"
      ]
     },
     "execution_count": 12,
     "metadata": {},
     "output_type": "execute_result"
    },
    {
     "data": {
      "image/png": "[encoded data removed]",
      "text/plain": [
       "<Figure size 432x288 with 1 Axes>"
      ]
     },
     "metadata": {
      "needs_background": "light"
     },
     "output_type": "display_data"
    }
   ],
   "source": [
    "# Box Plot for variable ApplicantIncome of training data set\n",
    "train.boxplot(column='Income (USD)')"
   ]
  },
  {
   "cell_type": "markdown",
   "id": "633ed747",
   "metadata": {},
   "source": [
    "So we noted some major outliers also"
   ]
  },
  {
   "cell_type": "code",
   "execution_count": 13,
   "id": "5171e893",
   "metadata": {},
   "outputs": [
    {
     "data": {
      "text/plain": [
       "<AxesSubplot:title={'center':'Income (USD)'}, xlabel='Profession'>"
      ]
     },
     "execution_count": 13,
     "metadata": {},
     "output_type": "execute_result"
    },
    {
     "data": {
      "image/png": "[encoded data removed]",
      "text/plain": [
       "<Figure size 432x288 with 1 Axes>"
      ]
     },
     "metadata": {
      "needs_background": "light"
     },
     "output_type": "display_data"
    }
   ],
   "source": [
    "# Box Plot for variable ApplicantIncome by variable profession of training data set\n",
    "train.boxplot(column='Income (USD)', by = 'Profession')"
   ]
  },
  {
   "cell_type": "code",
   "execution_count": 14,
   "id": "f6ef4ffb",
   "metadata": {},
   "outputs": [
    {
     "data": {
      "text/plain": [
       "<AxesSubplot:>"
      ]
     },
     "execution_count": 14,
     "metadata": {},
     "output_type": "execute_result"
    },
    {
     "data": {
      "image/png": "[encoded data removed]",
      "text/plain": [
       "<Figure size 432x288 with 1 Axes>"
      ]
     },
     "metadata": {
      "needs_background": "light"
     },
     "output_type": "display_data"
    }
   ],
   "source": [
    "# Histogram of variable LoanAmount\n",
    "train['Loan Amount'].hist(bins=50)"
   ]
  },
  {
   "cell_type": "code",
   "execution_count": 15,
   "id": "ae49f474",
   "metadata": {},
   "outputs": [
    {
     "data": {
      "text/plain": [
       "<AxesSubplot:>"
      ]
     },
     "execution_count": 15,
     "metadata": {},
     "output_type": "execute_result"
    },
    {
     "data": {
      "image/png": "[encoded data removed]",
      "text/plain": [
       "<Figure size 432x288 with 1 Axes>"
      ]
     },
     "metadata": {
      "needs_background": "light"
     },
     "output_type": "display_data"
    }
   ],
   "source": [
    "# Box Plot for variable LoanAmount of training data set\n",
    "train.boxplot(column='Loan Amount')"
   ]
  },
  {
   "cell_type": "code",
   "execution_count": 16,
   "id": "80379310",
   "metadata": {},
   "outputs": [
    {
     "data": {
      "text/plain": [
       "<AxesSubplot:title={'center':'Loan Amount'}, xlabel='Gender'>"
      ]
     },
     "execution_count": 16,
     "metadata": {},
     "output_type": "execute_result"
    },
    {
     "data": {
      "image/png": "[encoded data removed]",
      "text/plain": [
       "<Figure size 432x288 with 1 Axes>"
      ]
     },
     "metadata": {
      "needs_background": "light"
     },
     "output_type": "display_data"
    }
   ],
   "source": [
    "# Box Plot for variable LoanAmount by variable Gender of training data set\n",
    "train.boxplot(column='Loan Amount', by = 'Gender')"
   ]
  },
  {
   "cell_type": "markdown",
   "id": "8dd7a641",
   "metadata": {},
   "source": [
    "### Lets see the distribution of categorical features"
   ]
  },
  {
   "cell_type": "code",
   "execution_count": 17,
   "id": "00a9cf94",
   "metadata": {},
   "outputs": [
    {
     "name": "stdout",
     "output_type": "stream",
     "text": [
      "13507\n"
     ]
    }
   ],
   "source": [
    "# Loan approval rates in absolute numbers\n",
    "loan_approval = train['Gender'].value_counts()['M'] # we are checking the Male only\n",
    "print(loan_approval)"
   ]
  },
  {
   "cell_type": "code",
   "execution_count": 18,
   "id": "8da624fc",
   "metadata": {},
   "outputs": [
    {
     "name": "stdout",
     "output_type": "stream",
     "text": [
      "13450\n"
     ]
    }
   ],
   "source": [
    "loan_approval = train['Gender'].value_counts()['F'] # we are checking the Female only here\n",
    "print(loan_approval)"
   ]
  },
  {
   "cell_type": "code",
   "execution_count": null,
   "id": "f02299fb",
   "metadata": {},
   "outputs": [],
   "source": []
  },
  {
   "cell_type": "markdown",
   "id": "9bd1afbd",
   "metadata": {},
   "source": [
    "#### One Hot Encoding\n",
    "\n",
    "This is the process where we convert categorical features to numerical features \n",
    "- in our data we have columns like Gender, Income Stability etc which are categorical\n",
    "- we will use onehot endcoding technique to convert them into categorical features "
   ]
  },
  {
   "cell_type": "code",
   "execution_count": 19,
   "id": "f508b8a0",
   "metadata": {},
   "outputs": [],
   "source": [
    "# encoding the training dataset\n",
    "sex = pd.get_dummies(train['Gender'],drop_first=True)\n",
    "Income_Stability = pd.get_dummies(train['Income Stability'],drop_first=True)\n",
    "Profession = pd.get_dummies(train['Profession'],drop_first=True)\n",
    "Type_of_Employment = pd.get_dummies(train['Type of Employment'],drop_first=True)\n",
    "Location = pd.get_dummies(train['Location'],drop_first=True)\n",
    "Expense_Type_1 = pd.get_dummies(train['Expense Type 1'],drop_first=True)\n",
    "Expense_Type_2 = pd.get_dummies(train['Expense Type 2'],drop_first=True)\n",
    "Has_Active_Credit_Card = pd.get_dummies(train['Has Active Credit Card'],drop_first=True)\n",
    "Property_Location = pd.get_dummies(train['Property Location'],drop_first=True)"
   ]
  },
  {
   "cell_type": "code",
   "execution_count": 20,
   "id": "5af1c9d4",
   "metadata": {},
   "outputs": [],
   "source": [
    "# encoding the test dataset\n",
    "sex = pd.get_dummies(test['Gender'],drop_first=True)\n",
    "Income_Stability = pd.get_dummies(test['Income Stability'],drop_first=True)\n",
    "Profession = pd.get_dummies(test['Profession'],drop_first=True)\n",
    "Type_of_Employment = pd.get_dummies(test['Type of Employment'],drop_first=True)\n",
    "Location = pd.get_dummies(test['Location'],drop_first=True)\n",
    "Expense_Type_1 = pd.get_dummies(test['Expense Type 1'],drop_first=True)\n",
    "Expense_Type_2 = pd.get_dummies(test['Expense Type 2'],drop_first=True)\n",
    "Has_Active_Credit_Card = pd.get_dummies(test['Has Active Credit Card'],drop_first=True)\n",
    "Property_Location = pd.get_dummies(test['Property Location'],drop_first=True)"
   ]
  },
  {
   "cell_type": "code",
   "execution_count": 21,
   "id": "2bee5f56",
   "metadata": {},
   "outputs": [],
   "source": [
    "test.drop(['Customer ID','Name','Gender','Income Stability','Profession','Type of Employment','Location','Expense Type 1','Expense Type 2','Has Active Credit Card','Property Location'],axis=1,inplace=True)\n",
    "test = pd.concat([test,sex,Income_Stability,Profession,Type_of_Employment,Location,Expense_Type_1,Expense_Type_2,Has_Active_Credit_Card,Property_Location],axis=1)"
   ]
  },
  {
   "cell_type": "code",
   "execution_count": 22,
   "id": "67f8eaf1",
   "metadata": {},
   "outputs": [
    {
     "data": {
      "text/html": [
       "<div><div id=f57ec968-912e-460d-95ad-b54e30b47fdd style=\"display:none; background-color:#9D6CFF; color:white; width:200px; height:30px; padding-left:5px; border-radius:4px; flex-direction:row; justify-content:space-around; align-items:center;\" onmouseover=\"this.style.backgroundColor='#BA9BF8'\" onmouseout=\"this.style.backgroundColor='#9D6CFF'\" onclick=\"window.commands?.execute('create-mitosheet-from-dataframe-output');\">See Full Dataframe in Mito</div> <script> if (window.commands?.hasCommand('create-mitosheet-from-dataframe-output')) document.getElementById('f57ec968-912e-460d-95ad-b54e30b47fdd').style.display = 'flex' </script> <table border=\"1\" class=\"dataframe\">\n",
       "  <thead>\n",
       "    <tr style=\"text-align: right;\">\n",
       "      <th></th>\n",
       "      <th>index</th>\n",
       "      <th>Age</th>\n",
       "      <th>Income (USD)</th>\n",
       "      <th>Loan Amount Request (USD)</th>\n",
       "      <th>Current Loan Expenses (USD)</th>\n",
       "      <th>Dependents</th>\n",
       "      <th>Credit Score</th>\n",
       "      <th>No. of Defaults</th>\n",
       "      <th>Property ID</th>\n",
       "      <th>Property Age</th>\n",
       "      <th>...</th>\n",
       "      <th>Security staff</th>\n",
       "      <th>Waiters/barmen staff</th>\n",
       "      <th>Semi-Urban</th>\n",
       "      <th>Urban</th>\n",
       "      <th>Y</th>\n",
       "      <th>Y</th>\n",
       "      <th>Inactive</th>\n",
       "      <th>Unpossessed</th>\n",
       "      <th>Semi-Urban</th>\n",
       "      <th>Urban</th>\n",
       "    </tr>\n",
       "  </thead>\n",
       "  <tbody>\n",
       "    <tr>\n",
       "      <th>0</th>\n",
       "      <td>0</td>\n",
       "      <td>18</td>\n",
       "      <td>3563.37</td>\n",
       "      <td>93876.03</td>\n",
       "      <td>727.60</td>\n",
       "      <td>1.0</td>\n",
       "      <td>813.46</td>\n",
       "      <td>0</td>\n",
       "      <td>300</td>\n",
       "      <td>3563.37</td>\n",
       "      <td>...</td>\n",
       "      <td>0.0</td>\n",
       "      <td>0.0</td>\n",
       "      <td>1.0</td>\n",
       "      <td>0.0</td>\n",
       "      <td>0.0</td>\n",
       "      <td>0.0</td>\n",
       "      <td>0.0</td>\n",
       "      <td>0.0</td>\n",
       "      <td>0.0</td>\n",
       "      <td>0.0</td>\n",
       "    </tr>\n",
       "    <tr>\n",
       "      <th>1</th>\n",
       "      <td>1</td>\n",
       "      <td>18</td>\n",
       "      <td>945.97</td>\n",
       "      <td>38668.39</td>\n",
       "      <td>202.55</td>\n",
       "      <td>3.0</td>\n",
       "      <td>714.64</td>\n",
       "      <td>0</td>\n",
       "      <td>468</td>\n",
       "      <td>945.97</td>\n",
       "      <td>...</td>\n",
       "      <td>0.0</td>\n",
       "      <td>0.0</td>\n",
       "      <td>1.0</td>\n",
       "      <td>0.0</td>\n",
       "      <td>1.0</td>\n",
       "      <td>1.0</td>\n",
       "      <td>0.0</td>\n",
       "      <td>1.0</td>\n",
       "      <td>0.0</td>\n",
       "      <td>1.0</td>\n",
       "    </tr>\n",
       "    <tr>\n",
       "      <th>2</th>\n",
       "      <td>2</td>\n",
       "      <td>65</td>\n",
       "      <td>1214.89</td>\n",
       "      <td>85423.80</td>\n",
       "      <td>272.92</td>\n",
       "      <td>NaN</td>\n",
       "      <td>882.74</td>\n",
       "      <td>0</td>\n",
       "      <td>435</td>\n",
       "      <td>1214.89</td>\n",
       "      <td>...</td>\n",
       "      <td>0.0</td>\n",
       "      <td>0.0</td>\n",
       "      <td>1.0</td>\n",
       "      <td>0.0</td>\n",
       "      <td>1.0</td>\n",
       "      <td>1.0</td>\n",
       "      <td>1.0</td>\n",
       "      <td>0.0</td>\n",
       "      <td>0.0</td>\n",
       "      <td>1.0</td>\n",
       "    </tr>\n",
       "    <tr>\n",
       "      <th>3</th>\n",
       "      <td>3</td>\n",
       "      <td>21</td>\n",
       "      <td>1387.61</td>\n",
       "      <td>24693.00</td>\n",
       "      <td>140.52</td>\n",
       "      <td>1.0</td>\n",
       "      <td>623.82</td>\n",
       "      <td>1</td>\n",
       "      <td>260</td>\n",
       "      <td>1387.61</td>\n",
       "      <td>...</td>\n",
       "      <td>1.0</td>\n",
       "      <td>0.0</td>\n",
       "      <td>0.0</td>\n",
       "      <td>0.0</td>\n",
       "      <td>0.0</td>\n",
       "      <td>0.0</td>\n",
       "      <td>0.0</td>\n",
       "      <td>1.0</td>\n",
       "      <td>0.0</td>\n",
       "      <td>0.0</td>\n",
       "    </tr>\n",
       "    <tr>\n",
       "      <th>4</th>\n",
       "      <td>4</td>\n",
       "      <td>32</td>\n",
       "      <td>1694.64</td>\n",
       "      <td>34975.71</td>\n",
       "      <td>214.60</td>\n",
       "      <td>2.0</td>\n",
       "      <td>870.92</td>\n",
       "      <td>1</td>\n",
       "      <td>762</td>\n",
       "      <td>1694.64</td>\n",
       "      <td>...</td>\n",
       "      <td>0.0</td>\n",
       "      <td>0.0</td>\n",
       "      <td>1.0</td>\n",
       "      <td>0.0</td>\n",
       "      <td>1.0</td>\n",
       "      <td>1.0</td>\n",
       "      <td>0.0</td>\n",
       "      <td>0.0</td>\n",
       "      <td>1.0</td>\n",
       "      <td>0.0</td>\n",
       "    </tr>\n",
       "  </tbody>\n",
       "</table></div>"
      ],
      "text/plain": [
       "   index  Age  Income (USD)  Loan Amount Request (USD)  \\\n",
       "0      0   18       3563.37                   93876.03   \n",
       "1      1   18        945.97                   38668.39   \n",
       "2      2   65       1214.89                   85423.80   \n",
       "3      3   21       1387.61                   24693.00   \n",
       "4      4   32       1694.64                   34975.71   \n",
       "\n",
       "   Current Loan Expenses (USD)  Dependents  Credit Score  No. of Defaults  \\\n",
       "0                       727.60         1.0        813.46                0   \n",
       "1                       202.55         3.0        714.64                0   \n",
       "2                       272.92         NaN        882.74                0   \n",
       "3                       140.52         1.0        623.82                1   \n",
       "4                       214.60         2.0        870.92                1   \n",
       "\n",
       "   Property ID  Property Age  ...  Security staff  Waiters/barmen staff  \\\n",
       "0          300       3563.37  ...             0.0                   0.0   \n",
       "1          468        945.97  ...             0.0                   0.0   \n",
       "2          435       1214.89  ...             0.0                   0.0   \n",
       "3          260       1387.61  ...             1.0                   0.0   \n",
       "4          762       1694.64  ...             0.0                   0.0   \n",
       "\n",
       "   Semi-Urban  Urban    Y    Y  Inactive  Unpossessed  Semi-Urban  Urban  \n",
       "0         1.0    0.0  0.0  0.0       0.0          0.0         0.0    0.0  \n",
       "1         1.0    0.0  1.0  1.0       0.0          1.0         0.0    1.0  \n",
       "2         1.0    0.0  1.0  1.0       1.0          0.0         0.0    1.0  \n",
       "3         0.0    0.0  0.0  0.0       0.0          1.0         0.0    0.0  \n",
       "4         1.0    0.0  1.0  1.0       0.0          0.0         1.0    0.0  \n",
       "\n",
       "[5 rows x 44 columns]"
      ]
     },
     "execution_count": 22,
     "metadata": {},
     "output_type": "execute_result"
    }
   ],
   "source": [
    "train.drop(['Customer ID','Name','Gender','Income Stability','Profession','Type of Employment','Location','Expense Type 1','Expense Type 2','Has Active Credit Card','Property Location'],axis=1,inplace=True)\n",
    "train = pd.concat([train,sex,Income_Stability,Profession,Type_of_Employment,Location,Expense_Type_1,Expense_Type_2,Has_Active_Credit_Card,Property_Location],axis=1)\n",
    "train.head()"
   ]
  },
  {
   "cell_type": "code",
   "execution_count": 23,
   "id": "49077f9a",
   "metadata": {},
   "outputs": [],
   "source": [
    "train.dropna(inplace = True)"
   ]
  },
  {
   "cell_type": "code",
   "execution_count": 24,
   "id": "a3b74af5",
   "metadata": {},
   "outputs": [],
   "source": [
    "test.dropna(inplace = True)"
   ]
  },
  {
   "cell_type": "code",
   "execution_count": 25,
   "id": "32442a0c",
   "metadata": {},
   "outputs": [
    {
     "data": {
      "text/plain": [
       "index                            int64\n",
       "Age                              int64\n",
       "Income (USD)                   float64\n",
       "Loan Amount Request (USD)      float64\n",
       "Current Loan Expenses (USD)    float64\n",
       "Dependents                     float64\n",
       "Credit Score                   float64\n",
       "No. of Defaults                  int64\n",
       "Property ID                      int64\n",
       "Property Age                   float64\n",
       "Property Type                    int64\n",
       "Co-Applicant                     int64\n",
       "Property Price                 float64\n",
       "Loan Amount                    float64\n",
       "M                              float64\n",
       "Low                            float64\n",
       "Pensioner                      float64\n",
       "State servant                  float64\n",
       "Working                        float64\n",
       "Cleaning staff                 float64\n",
       "Cooking staff                  float64\n",
       "Core staff                     float64\n",
       "Drivers                        float64\n",
       "HR staff                       float64\n",
       "High skill tech staff          float64\n",
       "IT staff                       float64\n",
       "Laborers                       float64\n",
       "Low-skill Laborers             float64\n",
       "Managers                       float64\n",
       "Medicine staff                 float64\n",
       "Private service staff          float64\n",
       "Realty agents                  float64\n",
       "Sales staff                    float64\n",
       "Secretaries                    float64\n",
       "Security staff                 float64\n",
       "Waiters/barmen staff           float64\n",
       "Semi-Urban                     float64\n",
       "Urban                          float64\n",
       "Y                              float64\n",
       "Y                              float64\n",
       "Inactive                       float64\n",
       "Unpossessed                    float64\n",
       "Semi-Urban                     float64\n",
       "Urban                          float64\n",
       "dtype: object"
      ]
     },
     "execution_count": 25,
     "metadata": {},
     "output_type": "execute_result"
    }
   ],
   "source": [
    "train.dtypes"
   ]
  },
  {
   "cell_type": "code",
   "execution_count": 26,
   "id": "ab445506",
   "metadata": {},
   "outputs": [
    {
     "data": {
      "image/png": "[encoded data removed]",
      "text/plain": [
       "<Figure size 288x288 with 1 Axes>"
      ]
     },
     "metadata": {
      "needs_background": "light"
     },
     "output_type": "display_data"
    }
   ],
   "source": [
    "plt.matshow(train.corr())\n",
    "plt.show()"
   ]
  },
  {
   "cell_type": "code",
   "execution_count": 27,
   "id": "b4252007",
   "metadata": {},
   "outputs": [
    {
     "data": {
      "image/png": "[encoded data removed]",
      "text/plain": [
       "<Figure size 1368x1080 with 2 Axes>"
      ]
     },
     "metadata": {
      "needs_background": "light"
     },
     "output_type": "display_data"
    }
   ],
   "source": [
    "f = plt.figure(figsize=(19, 15))\n",
    "plt.matshow(train.corr(), fignum=f.number)\n",
    "plt.xticks(range(train.select_dtypes(['number']).shape[1]), train.select_dtypes(['number']).columns, fontsize=14, rotation=45)\n",
    "plt.yticks(range(train.select_dtypes(['number']).shape[1]), train.select_dtypes(['number']).columns, fontsize=14)\n",
    "cb = plt.colorbar()\n",
    "cb.ax.tick_params(labelsize=14)\n",
    "plt.title('Correlation Matrix', fontsize=16);"
   ]
  },
  {
   "cell_type": "markdown",
   "id": "daa23d60",
   "metadata": {},
   "source": [
    "The correlation is good, so we are not going to drop any columm"
   ]
  },
  {
   "cell_type": "markdown",
   "id": "7523c249",
   "metadata": {},
   "source": [
    "### Splitting the data\n",
    "\n",
    "we will split the data into test and train set\n",
    "- train set will be used to train the model\n",
    "- test set will be used to test the model"
   ]
  },
  {
   "cell_type": "code",
   "execution_count": 28,
   "id": "c8818d29",
   "metadata": {},
   "outputs": [],
   "source": [
    "### Sandardization of data ###\n",
    "from sklearn.preprocessing import StandardScaler\n",
    "PredictorScaler=StandardScaler()"
   ]
  },
  {
   "cell_type": "code",
   "execution_count": 29,
   "id": "228f964a",
   "metadata": {},
   "outputs": [],
   "source": [
    "# Storing the fit object for later reference\n",
    "PredictorScalerFit=PredictorScaler.fit(train)"
   ]
  },
  {
   "cell_type": "code",
   "execution_count": 30,
   "id": "c5a71d65",
   "metadata": {},
   "outputs": [],
   "source": [
    "# Generating the standardized values of X and y\n",
    "X=PredictorScalerFit.transform(train)"
   ]
  },
  {
   "cell_type": "code",
   "execution_count": 31,
   "id": "bde377d5",
   "metadata": {},
   "outputs": [],
   "source": [
    "# training set\n",
    "X = train.drop('Loan Amount', axis = 1)\n",
    "y = train['Loan Amount']"
   ]
  },
  {
   "cell_type": "code",
   "execution_count": null,
   "id": "58f31ea8",
   "metadata": {},
   "outputs": [],
   "source": []
  },
  {
   "cell_type": "markdown",
   "id": "78505627",
   "metadata": {},
   "source": [
    "### Model Building\n",
    "\n",
    "we are going to train two machine learning models\n",
    "- Linear Regression\n",
    "- DNN"
   ]
  },
  {
   "cell_type": "markdown",
   "id": "b867996a",
   "metadata": {},
   "source": [
    "#### Linear Regression"
   ]
  },
  {
   "cell_type": "code",
   "execution_count": 32,
   "id": "77eb7aeb",
   "metadata": {},
   "outputs": [],
   "source": [
    "from sklearn.model_selection import train_test_split \n",
    "from sklearn.linear_model import LinearRegression\n",
    "from sklearn import metrics\n",
    "%matplotlib inline"
   ]
  },
  {
   "cell_type": "code",
   "execution_count": 33,
   "id": "ab262b51",
   "metadata": {},
   "outputs": [],
   "source": [
    "X_train, X_test, y_train, y_test = train_test_split(X, y, test_size=0.2, random_state=0)"
   ]
  },
  {
   "cell_type": "code",
   "execution_count": 34,
   "id": "c61761a3",
   "metadata": {},
   "outputs": [
    {
     "data": {
      "text/html": [
       "<style>#sk-container-id-1 {color: black;background-color: white;}#sk-container-id-1 pre{padding: 0;}#sk-container-id-1 div.sk-toggleable {background-color: white;}#sk-container-id-1 label.sk-toggleable__label {cursor: pointer;display: block;width: 100%;margin-bottom: 0;padding: 0.3em;box-sizing: border-box;text-align: center;}#sk-container-id-1 label.sk-toggleable__label-arrow:before {content: \"▸\";float: left;margin-right: 0.25em;color: #696969;}#sk-container-id-1 label.sk-toggleable__label-arrow:hover:before {color: black;}#sk-container-id-1 div.sk-estimator:hover label.sk-toggleable__label-arrow:before {color: black;}#sk-container-id-1 div.sk-toggleable__content {max-height: 0;max-width: 0;overflow: hidden;text-align: left;background-color: #f0f8ff;}#sk-container-id-1 div.sk-toggleable__content pre {margin: 0.2em;color: black;border-radius: 0.25em;background-color: #f0f8ff;}#sk-container-id-1 input.sk-toggleable__control:checked~div.sk-toggleable__content {max-height: 200px;max-width: 100%;overflow: auto;}#sk-container-id-1 input.sk-toggleable__control:checked~label.sk-toggleable__label-arrow:before {content: \"▾\";}#sk-container-id-1 div.sk-estimator input.sk-toggleable__control:checked~label.sk-toggleable__label {background-color: #d4ebff;}#sk-container-id-1 div.sk-label input.sk-toggleable__control:checked~label.sk-toggleable__label {background-color: #d4ebff;}#sk-container-id-1 input.sk-hidden--visually {border: 0;clip: rect(1px 1px 1px 1px);clip: rect(1px, 1px, 1px, 1px);height: 1px;margin: -1px;overflow: hidden;padding: 0;position: absolute;width: 1px;}#sk-container-id-1 div.sk-estimator {font-family: monospace;background-color: #f0f8ff;border: 1px dotted black;border-radius: 0.25em;box-sizing: border-box;margin-bottom: 0.5em;}#sk-container-id-1 div.sk-estimator:hover {background-color: #d4ebff;}#sk-container-id-1 div.sk-parallel-item::after {content: \"\";width: 100%;border-bottom: 1px solid gray;flex-grow: 1;}#sk-container-id-1 div.sk-label:hover label.sk-toggleable__label {background-color: #d4ebff;}#sk-container-id-1 div.sk-serial::before {content: \"\";position: absolute;border-left: 1px solid gray;box-sizing: border-box;top: 0;bottom: 0;left: 50%;z-index: 0;}#sk-container-id-1 div.sk-serial {display: flex;flex-direction: column;align-items: center;background-color: white;padding-right: 0.2em;padding-left: 0.2em;position: relative;}#sk-container-id-1 div.sk-item {position: relative;z-index: 1;}#sk-container-id-1 div.sk-parallel {display: flex;align-items: stretch;justify-content: center;background-color: white;position: relative;}#sk-container-id-1 div.sk-item::before, #sk-container-id-1 div.sk-parallel-item::before {content: \"\";position: absolute;border-left: 1px solid gray;box-sizing: border-box;top: 0;bottom: 0;left: 50%;z-index: -1;}#sk-container-id-1 div.sk-parallel-item {display: flex;flex-direction: column;z-index: 1;position: relative;background-color: white;}#sk-container-id-1 div.sk-parallel-item:first-child::after {align-self: flex-end;width: 50%;}#sk-container-id-1 div.sk-parallel-item:last-child::after {align-self: flex-start;width: 50%;}#sk-container-id-1 div.sk-parallel-item:only-child::after {width: 0;}#sk-container-id-1 div.sk-dashed-wrapped {border: 1px dashed gray;margin: 0 0.4em 0.5em 0.4em;box-sizing: border-box;padding-bottom: 0.4em;background-color: white;}#sk-container-id-1 div.sk-label label {font-family: monospace;font-weight: bold;display: inline-block;line-height: 1.2em;}#sk-container-id-1 div.sk-label-container {text-align: center;}#sk-container-id-1 div.sk-container {/* jupyter's `normalize.less` sets `[hidden] { display: none; }` but bootstrap.min.css set `[hidden] { display: none !important; }` so we also need the `!important` here to be able to override the default hidden behavior on the sphinx rendered scikit-learn.org. See: https://github.com/scikit-learn/scikit-learn/issues/21755 */display: inline-block !important;position: relative;}#sk-container-id-1 div.sk-text-repr-fallback {display: none;}</style><div id=\"sk-container-id-1\" class=\"sk-top-container\"><div class=\"sk-text-repr-fallback\"><pre>LinearRegression()</pre><b>In a Jupyter environment, please rerun this cell to show the HTML representation or trust the notebook. <br />On GitHub, the HTML representation is unable to render, please try loading this page with nbviewer.org.</b></div><div class=\"sk-container\" hidden><div class=\"sk-item\"><div class=\"sk-estimator sk-toggleable\"><input class=\"sk-toggleable__control sk-hidden--visually\" id=\"sk-estimator-id-1\" type=\"checkbox\" checked><label for=\"sk-estimator-id-1\" class=\"sk-toggleable__label sk-toggleable__label-arrow\">LinearRegression</label><div class=\"sk-toggleable__content\"><pre>LinearRegression()</pre></div></div></div></div></div>"
      ],
      "text/plain": [
       "LinearRegression()"
      ]
     },
     "execution_count": 34,
     "metadata": {},
     "output_type": "execute_result"
    }
   ],
   "source": [
    "Linear_regressor = LinearRegression()  \n",
    "Linear_regressor.fit(X_train, y_train) #training the algorithm"
   ]
  },
  {
   "cell_type": "code",
   "execution_count": 35,
   "id": "282697a6",
   "metadata": {},
   "outputs": [
    {
     "data": {
      "text/plain": [
       "array([ 4.94846943e+04,  3.49999918e+04,  7.09341633e+04,  4.27855745e+04,\n",
       "        2.84332495e+03,  8.46543049e+04,  1.88497087e+04,  3.94382866e+02,\n",
       "        7.42539587e+04,  5.94745931e+04,  1.63464948e+05, -7.31686357e+03,\n",
       "        3.64444779e+03,  2.73338255e+04,  1.14135398e+04, -2.00213240e+03,\n",
       "        9.02660393e+04,  4.67242094e+04,  3.38874934e+04,  8.37969573e+04,\n",
       "        7.39512865e+04,  2.28728266e+04,  4.32898159e+04,  3.04672700e+04,\n",
       "        5.64944258e+04,  6.12841750e+04,  7.76011298e+04, -5.55539233e+03,\n",
       "        7.27392839e+04,  4.85223280e+04,  5.40578263e+04,  2.12621759e+04,\n",
       "        2.32703636e+04,  1.13424883e+04,  8.78756923e+04,  3.49683723e+04,\n",
       "        4.67804654e+04,  6.78056141e+04,  1.02120606e+04,  1.07542070e+05,\n",
       "        6.61353933e+04,  1.98679896e+04,  3.38826511e+04,  8.45510309e+04,\n",
       "        8.03950135e+04,  6.36853927e+04,  3.67645025e+04,  5.42276567e+04,\n",
       "       -7.41807509e+03,  7.85563406e+04,  6.32278903e+04,  1.89079009e+04,\n",
       "        5.39016662e+04, -4.48386117e+03,  2.60290620e+04,  9.20910707e+03,\n",
       "        3.42522873e+04,  1.47691830e+04,  8.41851331e+04,  6.51542687e+03,\n",
       "        5.08264346e+04,  5.70252595e+04,  1.56193139e+04,  8.91089814e+04,\n",
       "        2.48311742e+04,  1.15908418e+05,  5.37229697e+04,  4.31277477e+04,\n",
       "        2.01025529e+04,  1.24021004e+05,  5.81496769e+04,  1.38723610e+04,\n",
       "        2.63841045e+04,  3.14823590e+04,  4.57033819e+04,  7.58649130e+04,\n",
       "        8.25114658e+04,  1.02270522e+04,  1.94262891e+04,  2.41664392e+04,\n",
       "        5.76808747e+04,  5.30333640e+04,  5.56428615e+04,  4.02955650e+04,\n",
       "        3.49317243e+04,  4.37472990e+04, -1.07127755e+04,  6.35961834e+04,\n",
       "        1.04818635e+05,  4.35988970e+04,  3.64283774e+04,  1.17612370e+05,\n",
       "       -3.79123820e+03,  3.87042154e+04, -7.64847035e+03,  1.42778296e+04,\n",
       "        4.86128980e+04,  6.43695453e+04,  1.39457151e+04,  4.53324866e+04,\n",
       "        3.37543348e+04,  7.83066481e+04,  5.15994224e+04,  2.52565761e+04,\n",
       "        7.35759793e+04,  2.72455689e+04,  1.11543714e+05,  4.45167789e+04,\n",
       "        5.42336476e+04,  6.76502511e+04,  4.54620839e+04,  3.25733926e+04,\n",
       "        3.16175623e+04,  6.18923076e+04,  1.10465593e+04,  3.95375772e+04,\n",
       "        1.20096572e+05,  2.19726122e+04,  1.09758339e+04,  2.06766504e+04,\n",
       "        1.85050986e+04,  1.39892306e+04, -9.34678021e+03,  8.22854936e+04,\n",
       "        2.25372927e+04,  2.85171335e+04,  2.92537329e+04,  3.42453657e+04,\n",
       "        6.07159063e+04,  2.89564370e+04,  4.89726262e+04,  9.00841281e+03,\n",
       "        8.09360474e+04,  4.95511797e+04,  4.84629574e+04,  6.24981924e+04,\n",
       "        6.50137023e+03,  5.73183515e+04,  4.51603726e+04,  7.00350829e+04,\n",
       "        2.52175188e+04,  2.39952267e+04,  8.45017225e+03,  6.08619181e+04,\n",
       "        1.70046494e+03,  6.90921998e+04,  7.28982421e+04,  4.05188579e+04,\n",
       "        1.47016090e+04,  1.18551154e+04,  3.94172519e+04,  8.95665874e+03,\n",
       "        2.15255244e+04,  5.64773709e+04,  4.42835633e+04,  2.16400327e+04,\n",
       "       -3.88211573e+03,  3.86561141e+04,  8.83116760e+04,  1.84480310e+04,\n",
       "        2.01523133e+04,  4.11425850e+04,  3.11869001e+04,  1.68259314e+04,\n",
       "        2.64459977e+04,  2.35330266e+04,  1.74952924e+04,  4.30247273e+04,\n",
       "        2.63725060e+04,  4.35060171e+04,  9.33391863e+04,  1.02903788e+05,\n",
       "        7.22032439e+03,  3.95709373e+04,  4.35978644e+03,  2.98645222e+03,\n",
       "        1.00924269e+04,  2.95408089e+04,  6.68522565e+04,  3.20709370e+04,\n",
       "       -7.35301427e+03, -1.40038211e+03,  5.98414128e+04,  7.44571227e+04,\n",
       "        2.12345968e+04,  7.94488189e+04,  6.05432835e+04,  1.96868040e+04,\n",
       "        1.01757856e+04,  1.03724873e+05, -1.16855058e+04,  4.16718490e+04,\n",
       "        3.30148058e+04,  1.42902559e+05,  8.05421482e+04,  1.11207692e+05,\n",
       "        8.33200719e+04,  2.72549885e+04,  3.50728515e+04,  7.58784341e+04,\n",
       "        3.69654149e+04, -1.57307402e+03,  1.20052744e+05, -4.86499357e+02,\n",
       "       -3.21457403e+03,  1.22837376e+04,  2.74800268e+04,  8.72914434e+04,\n",
       "        7.41055350e+02,  3.72270880e+04,  4.46824659e+04, -8.06477227e+03,\n",
       "        4.64578805e+04,  5.36827456e+03,  5.98446373e+04,  3.34652475e+04,\n",
       "        1.30183635e+04,  1.28804458e+04, -1.62859983e+04,  7.46642158e+04,\n",
       "        3.72606121e+04,  3.57716475e+04,  6.87594431e+03,  5.07027913e+04,\n",
       "        3.88647723e+04,  3.19016452e+04,  7.07694514e+04,  4.98338456e+04,\n",
       "        1.59070856e+04,  2.72449313e+04,  1.06583967e+04,  1.43256184e+04,\n",
       "        3.90798202e+04,  2.38669521e+04,  6.16350963e+04,  3.09523587e+04,\n",
       "        5.67076367e+04,  1.06008984e+05,  7.52341742e+04,  4.48200770e+04,\n",
       "        6.00433931e+04,  1.93939913e+04,  1.08073199e+04,  4.84212015e+03,\n",
       "        2.05753417e+04,  7.88157019e+03,  1.17320895e+05,  1.70945583e+04,\n",
       "        7.05358148e+04,  3.13355937e+04,  1.11976584e+05,  6.67039777e+04,\n",
       "        3.42679527e+04,  4.88492803e+04,  8.04475659e+03,  1.39931328e+05,\n",
       "        3.28849753e+04,  3.82573572e+04,  3.24969596e+04,  1.93563136e+04,\n",
       "        2.79165058e+04,  2.70831143e+04,  3.53150143e+04,  2.98595759e+04,\n",
       "        6.50121529e+04,  6.57479518e+04,  2.23053881e+04,  8.00601375e+04,\n",
       "        7.39909362e+04, -3.01779126e+04,  1.79007453e+04,  5.68856168e+04,\n",
       "        5.80843616e+04,  1.06730185e+05,  3.51375241e+03,  6.60755340e+04,\n",
       "        2.00940765e+04,  8.92732428e+04,  5.87462910e+04,  6.22928471e+04,\n",
       "        2.65730155e+04,  1.49102026e+05, -3.47252631e+03,  1.30334989e+05,\n",
       "       -1.36026944e+03,  7.89821408e+04,  8.09214579e+04,  4.90783603e+04,\n",
       "        3.68748676e+04,  1.37542194e+04,  2.52178742e+04,  1.62209877e+04,\n",
       "        7.75514498e+04,  1.37482734e+05,  1.02764606e+05,  4.39520848e+04,\n",
       "        2.93766272e+04,  8.95571579e+04,  3.21679815e+04, -1.32022088e+04,\n",
       "        6.78595595e+04,  1.63866626e+03,  7.51216534e+04,  6.74060369e+03,\n",
       "       -1.81093244e+04,  1.45947042e+05,  2.75425307e+04,  1.78443034e+04,\n",
       "        6.96609313e+04,  1.09886177e+04,  4.17050577e+04,  7.79777900e+04,\n",
       "       -3.34496441e+03,  5.36702129e+04,  1.05023162e+05,  9.16615134e+04,\n",
       "        2.25873466e+04,  7.38857521e+03,  7.72980590e+04,  4.92117389e+04,\n",
       "        9.41585504e+04,  7.29983807e+04,  3.86241615e+04,  5.92490477e+04,\n",
       "        6.12065585e+04,  2.01990391e+04,  5.82080449e+04,  7.77925479e+04,\n",
       "        1.60588359e+05,  1.81845172e+05,  7.90831946e+04, -1.87335712e+03,\n",
       "        6.16779277e+04,  2.33281431e+04,  5.99975781e+04,  5.24003594e+03,\n",
       "        5.84285566e+03,  5.78275773e+03,  7.27369828e+04,  5.22148150e+04,\n",
       "        1.97784043e+04,  1.52704367e+04,  1.18234884e+05, -5.35134046e+03,\n",
       "        4.67257676e+03,  6.19104220e+04,  3.32927195e+03,  8.95909111e+04,\n",
       "        2.39970954e+04,  6.38616835e+04,  1.03615520e+05,  5.07541306e+04,\n",
       "        6.91193398e+04,  1.16877195e+04,  5.26725467e+04,  3.47110437e+04,\n",
       "        4.66275094e+04,  1.18753859e+05,  1.99689382e+04,  1.09800375e+04,\n",
       "        2.80164568e+04,  1.14777993e+05,  1.21688690e+04,  2.81198065e+04,\n",
       "        5.03868606e+04,  5.63937572e+04,  4.88786673e+03,  3.54756551e+04,\n",
       "        9.05081999e+03,  6.72486127e+04,  1.80012889e+04,  4.53118475e+04,\n",
       "        5.54908269e+04,  5.37780387e+03,  4.99834725e+04,  4.78461250e+04,\n",
       "        1.77696733e+04,  5.34659257e+04,  3.91067735e+04, -7.16429295e+03,\n",
       "        4.28487472e+04,  1.34560929e+04,  1.24812108e+04,  8.96660278e+03,\n",
       "        5.34673526e+04,  7.93157311e+02,  4.14136500e+04,  6.33784732e+04,\n",
       "        8.03745016e+04,  5.06034825e+04,  4.11742569e+04, -7.75647701e+03,\n",
       "        3.71987093e+04,  5.88475490e+04,  9.75557639e+03,  8.77262583e+04,\n",
       "        5.54550513e+04,  3.11577908e+04,  4.61033947e+04,  3.69831292e+04,\n",
       "        2.98409358e+04,  3.22780309e+04,  5.23915822e+03,  3.57961797e+04,\n",
       "        2.11232381e+04,  2.71552496e+04,  7.76664072e+04,  2.95843406e+04,\n",
       "        5.99523362e+03,  2.80729539e+04,  2.36962735e+03,  8.29778585e+04,\n",
       "        2.97084418e+04,  6.99677400e+04,  5.33476119e+04,  2.05152943e+04,\n",
       "        3.52565221e+04,  2.92702821e+04,  1.97335424e+04,  4.60022028e+04,\n",
       "        1.18599218e+04,  5.87794199e+04,  3.51253501e+04,  8.19525295e+04,\n",
       "        4.79284312e+03,  7.34672917e+04,  1.21500854e+04, -2.21183481e+03,\n",
       "       -6.69459846e+02,  1.08394033e+04,  2.00019586e+04,  7.20164062e+04,\n",
       "        9.32728915e+04, -7.89382700e+01,  4.68007462e+04])"
      ]
     },
     "execution_count": 35,
     "metadata": {},
     "output_type": "execute_result"
    }
   ],
   "source": [
    "Linear_regressor.predict(X_test)"
   ]
  },
  {
   "cell_type": "code",
   "execution_count": 36,
   "id": "cc5c727e",
   "metadata": {},
   "outputs": [
    {
     "data": {
      "text/plain": [
       "0.5901477061480696"
      ]
     },
     "execution_count": 36,
     "metadata": {},
     "output_type": "execute_result"
    }
   ],
   "source": [
    "# Accuracy of the model\n",
    "Linear_regressor.score(X_test,y_test)"
   ]
  },
  {
   "cell_type": "markdown",
   "id": "bb9c56f6",
   "metadata": {},
   "source": [
    "Now lets test the model with the testing data"
   ]
  },
  {
   "cell_type": "code",
   "execution_count": 37,
   "id": "d66f021d",
   "metadata": {},
   "outputs": [],
   "source": [
    "Predictions = Linear_regressor.predict(test)"
   ]
  },
  {
   "cell_type": "code",
   "execution_count": 38,
   "id": "71103f75",
   "metadata": {},
   "outputs": [
    {
     "data": {
      "text/plain": [
       "array([ 34524.54867985,  85930.90542605,  67573.47725195, ...,\n",
       "       105109.53539059,  88109.19481128,  27900.31189012])"
      ]
     },
     "execution_count": 38,
     "metadata": {},
     "output_type": "execute_result"
    }
   ],
   "source": [
    "Predictions"
   ]
  },
  {
   "cell_type": "code",
   "execution_count": null,
   "id": "a09608d7",
   "metadata": {},
   "outputs": [],
   "source": []
  },
  {
   "cell_type": "code",
   "execution_count": 39,
   "id": "bd7cbf60",
   "metadata": {},
   "outputs": [],
   "source": [
    "prediction = pd.DataFrame(Predictions, columns=['Predictions'])"
   ]
  },
  {
   "cell_type": "code",
   "execution_count": 40,
   "id": "88b2dc85",
   "metadata": {},
   "outputs": [],
   "source": [
    "prediction = prediction[(prediction['Predictions']>0)]"
   ]
  },
  {
   "cell_type": "code",
   "execution_count": 41,
   "id": "9b5387ab",
   "metadata": {},
   "outputs": [
    {
     "data": {
      "text/html": [
       "<div><div id=6dc8418f-ea57-4f86-bcf3-c76c10584ff9 style=\"display:none; background-color:#9D6CFF; color:white; width:200px; height:30px; padding-left:5px; border-radius:4px; flex-direction:row; justify-content:space-around; align-items:center;\" onmouseover=\"this.style.backgroundColor='#BA9BF8'\" onmouseout=\"this.style.backgroundColor='#9D6CFF'\" onclick=\"window.commands?.execute('create-mitosheet-from-dataframe-output');\">See Full Dataframe in Mito</div> <script> if (window.commands?.hasCommand('create-mitosheet-from-dataframe-output')) document.getElementById('6dc8418f-ea57-4f86-bcf3-c76c10584ff9').style.display = 'flex' </script> <table border=\"1\" class=\"dataframe\">\n",
       "  <thead>\n",
       "    <tr style=\"text-align: right;\">\n",
       "      <th></th>\n",
       "      <th>Predictions</th>\n",
       "    </tr>\n",
       "  </thead>\n",
       "  <tbody>\n",
       "    <tr>\n",
       "      <th>0</th>\n",
       "      <td>34524.548680</td>\n",
       "    </tr>\n",
       "    <tr>\n",
       "      <th>1</th>\n",
       "      <td>85930.905426</td>\n",
       "    </tr>\n",
       "  </tbody>\n",
       "</table></div>"
      ],
      "text/plain": [
       "    Predictions\n",
       "0  34524.548680\n",
       "1  85930.905426"
      ]
     },
     "execution_count": 41,
     "metadata": {},
     "output_type": "execute_result"
    }
   ],
   "source": [
    "prediction.to_csv('Linear_Predctions.csv')\n",
    "prediction.head(2)"
   ]
  },
  {
   "cell_type": "markdown",
   "id": "7501e99e",
   "metadata": {},
   "source": [
    "#### DNN (Deep Neural Network)"
   ]
  },
  {
   "cell_type": "code",
   "execution_count": 43,
   "id": "8b24ac62",
   "metadata": {},
   "outputs": [
    {
     "name": "stdout",
     "output_type": "stream",
     "text": [
      "Libraries are imported.\n"
     ]
    }
   ],
   "source": [
    "import tensorflow as tf\n",
    "import seaborn as sns\n",
    "\n",
    "from utils import *\n",
    "from sklearn.model_selection import train_test_split\n",
    "from tensorflow.keras.models import Sequential\n",
    "from tensorflow.keras.layers import Dense, Dropout\n",
    "from tensorflow.keras.callbacks import EarlyStopping, LambdaCallback\n",
    "\n",
    "%matplotlib inline\n",
    "tf.compat.v1.logging.set_verbosity(tf.compat.v1.logging.ERROR)\n",
    "\n",
    "print('Libraries are imported.')"
   ]
  },
  {
   "cell_type": "code",
   "execution_count": 44,
   "id": "dd6f9eeb",
   "metadata": {},
   "outputs": [],
   "source": [
    "# Creating a skeleton of model.\n",
    "from tensorflow.keras.models import Sequential\n",
    "# Defining layers\n",
    "from tensorflow.keras.layers import Input, Dense\n",
    "from tensorflow.keras.layers import InputLayer"
   ]
  },
  {
   "cell_type": "code",
   "execution_count": 45,
   "id": "80d28944",
   "metadata": {},
   "outputs": [],
   "source": [
    "# Input neurons\n",
    "input_neurons = X_train.shape[1]\n",
    "# Output neurons (Since it is binary classification)\n",
    "output_neurons = 1\n",
    "# Defining hidden layers & neurons in each layersnumber_of_hidden_layers = 2\n",
    "neuron_hidden_layer_1         = 10\n",
    "neuron_hidden_layer_2         = 5\n",
    "# Defining the architecture of the model\n",
    "model = Sequential()\n",
    "model.add(InputLayer(input_shape=(input_neurons)))\n",
    "model.add(Dense(units=neuron_hidden_layer_1, activation='relu'))\n",
    "model.add(Dense(units=neuron_hidden_layer_2, activation='relu'))\n",
    "model.add(Dense(units=output_neurons, activation='sigmoid'))"
   ]
  },
  {
   "cell_type": "code",
   "execution_count": 46,
   "id": "32b9c0ef",
   "metadata": {},
   "outputs": [],
   "source": [
    "model.compile(loss='binary_crossentropy',optimizer='Adam',metrics=['accuracy'])"
   ]
  },
  {
   "cell_type": "code",
   "execution_count": null,
   "id": "b527692d",
   "metadata": {},
   "outputs": [
    {
     "name": "stdout",
     "output_type": "stream",
     "text": [
      "Epoch 1/500\n",
      "55/55 [==============================] - 2s 9ms/step - loss: -1979671680.0000 - accuracy: 0.0000e+00 - val_loss: -3311952128.0000 - val_accuracy: 0.0000e+00\n",
      "Epoch 2/500\n",
      "55/55 [==============================] - 0s 5ms/step - loss: -4317657600.0000 - accuracy: 0.0000e+00 - val_loss: -6313008640.0000 - val_accuracy: 0.0000e+00\n",
      "Epoch 3/500\n",
      "55/55 [==============================] - 0s 4ms/step - loss: -7655200768.0000 - accuracy: 0.0000e+00 - val_loss: -10599069696.0000 - val_accuracy: 0.0000e+00\n",
      "Epoch 4/500\n",
      "55/55 [==============================] - 0s 6ms/step - loss: -12461694976.0000 - accuracy: 0.0000e+00 - val_loss: -16973555712.0000 - val_accuracy: 0.0000e+00\n",
      "Epoch 5/500\n",
      "55/55 [==============================] - 0s 5ms/step - loss: -19562113024.0000 - accuracy: 0.0000e+00 - val_loss: -26269032448.0000 - val_accuracy: 0.0000e+00\n",
      "Epoch 6/500\n",
      "55/55 [==============================] - 0s 4ms/step - loss: -29855367168.0000 - accuracy: 0.0000e+00 - val_loss: -39496548352.0000 - val_accuracy: 0.0000e+00\n",
      "Epoch 7/500\n",
      "55/55 [==============================] - 0s 5ms/step - loss: -44133949440.0000 - accuracy: 0.0000e+00 - val_loss: -56861671424.0000 - val_accuracy: 0.0000e+00\n",
      "Epoch 8/500\n",
      "55/55 [==============================] - 0s 5ms/step - loss: -62358384640.0000 - accuracy: 0.0000e+00 - val_loss: -79635611648.0000 - val_accuracy: 0.0000e+00\n",
      "Epoch 9/500\n",
      "55/55 [==============================] - 0s 4ms/step - loss: -85510766592.0000 - accuracy: 0.0000e+00 - val_loss: -107349073920.0000 - val_accuracy: 0.0000e+00\n",
      "Epoch 10/500\n",
      "55/55 [==============================] - 0s 4ms/step - loss: -113718157312.0000 - accuracy: 0.0000e+00 - val_loss: -140870746112.0000 - val_accuracy: 0.0000e+00\n",
      "Epoch 11/500\n",
      "55/55 [==============================] - 0s 4ms/step - loss: -147653984256.0000 - accuracy: 0.0000e+00 - val_loss: -180826652672.0000 - val_accuracy: 0.0000e+00\n",
      "Epoch 12/500\n",
      "55/55 [==============================] - 0s 4ms/step - loss: -187961032704.0000 - accuracy: 0.0000e+00 - val_loss: -228164354048.0000 - val_accuracy: 0.0000e+00\n",
      "Epoch 13/500\n",
      "55/55 [==============================] - 0s 4ms/step - loss: -235307532288.0000 - accuracy: 0.0000e+00 - val_loss: -283494612992.0000 - val_accuracy: 0.0000e+00\n",
      "Epoch 14/500\n",
      "55/55 [==============================] - 0s 5ms/step - loss: -289356021760.0000 - accuracy: 0.0000e+00 - val_loss: -345207635968.0000 - val_accuracy: 0.0000e+00\n",
      "Epoch 15/500\n",
      "55/55 [==============================] - 0s 5ms/step - loss: -350958125056.0000 - accuracy: 0.0000e+00 - val_loss: -416476135424.0000 - val_accuracy: 0.0000e+00\n",
      "Epoch 16/500\n",
      "55/55 [==============================] - 0s 4ms/step - loss: -421268520960.0000 - accuracy: 0.0000e+00 - val_loss: -495904391168.0000 - val_accuracy: 0.0000e+00\n",
      "Epoch 17/500\n",
      "55/55 [==============================] - 0s 4ms/step - loss: -497865883648.0000 - accuracy: 0.0000e+00 - val_loss: -584869085184.0000 - val_accuracy: 0.0000e+00\n",
      "Epoch 18/500\n",
      "55/55 [==============================] - 0s 5ms/step - loss: -585125789696.0000 - accuracy: 0.0000e+00 - val_loss: -680909340672.0000 - val_accuracy: 0.0000e+00\n",
      "Epoch 19/500\n",
      "55/55 [==============================] - 0s 5ms/step - loss: -678838272000.0000 - accuracy: 0.0000e+00 - val_loss: -788600586240.0000 - val_accuracy: 0.0000e+00\n",
      "Epoch 20/500\n",
      "55/55 [==============================] - 0s 5ms/step - loss: -782443610112.0000 - accuracy: 0.0000e+00 - val_loss: -907549081600.0000 - val_accuracy: 0.0000e+00\n",
      "Epoch 21/500\n",
      "55/55 [==============================] - 0s 5ms/step - loss: -895982567424.0000 - accuracy: 0.0000e+00 - val_loss: -1032665366528.0000 - val_accuracy: 0.0000e+00\n",
      "Epoch 22/500\n",
      "55/55 [==============================] - 0s 5ms/step - loss: -1019149090816.0000 - accuracy: 0.0000e+00 - val_loss: -1169208115200.0000 - val_accuracy: 0.0000e+00\n",
      "Epoch 23/500\n",
      "55/55 [==============================] - 0s 6ms/step - loss: -1150539530240.0000 - accuracy: 0.0000e+00 - val_loss: -1319124992000.0000 - val_accuracy: 0.0000e+00\n",
      "Epoch 24/500\n",
      "55/55 [==============================] - 0s 6ms/step - loss: -1292491816960.0000 - accuracy: 0.0000e+00 - val_loss: -1476436164608.0000 - val_accuracy: 0.0000e+00\n",
      "Epoch 25/500\n",
      "55/55 [==============================] - 0s 7ms/step - loss: -1445076402176.0000 - accuracy: 0.0000e+00 - val_loss: -1649578344448.0000 - val_accuracy: 0.0000e+00\n",
      "Epoch 26/500\n",
      "55/55 [==============================] - 0s 5ms/step - loss: -1608404434944.0000 - accuracy: 0.0000e+00 - val_loss: -1834425778176.0000 - val_accuracy: 0.0000e+00\n",
      "Epoch 27/500\n",
      "55/55 [==============================] - 0s 5ms/step - loss: -1784139350016.0000 - accuracy: 0.0000e+00 - val_loss: -2023884718080.0000 - val_accuracy: 0.0000e+00\n",
      "Epoch 28/500\n",
      "55/55 [==============================] - 0s 6ms/step - loss: -1967269740544.0000 - accuracy: 0.0000e+00 - val_loss: -2231058300928.0000 - val_accuracy: 0.0000e+00\n",
      "Epoch 29/500\n",
      "55/55 [==============================] - 0s 4ms/step - loss: -2161276747776.0000 - accuracy: 0.0000e+00 - val_loss: -2446850785280.0000 - val_accuracy: 0.0000e+00\n",
      "Epoch 30/500\n",
      "55/55 [==============================] - 0s 6ms/step - loss: -2367890915328.0000 - accuracy: 0.0000e+00 - val_loss: -2671794454528.0000 - val_accuracy: 0.0000e+00\n",
      "Epoch 31/500\n",
      "55/55 [==============================] - 0s 5ms/step - loss: -2583589027840.0000 - accuracy: 0.0000e+00 - val_loss: -2913417297920.0000 - val_accuracy: 0.0000e+00\n",
      "Epoch 32/500\n",
      "55/55 [==============================] - 0s 6ms/step - loss: -2811751563264.0000 - accuracy: 0.0000e+00 - val_loss: -3170381856768.0000 - val_accuracy: 0.0000e+00\n",
      "Epoch 33/500\n",
      "55/55 [==============================] - 0s 6ms/step - loss: -3054262288384.0000 - accuracy: 0.0000e+00 - val_loss: -3432901246976.0000 - val_accuracy: 0.0000e+00\n",
      "Epoch 34/500\n",
      "55/55 [==============================] - 0s 4ms/step - loss: -3312693805056.0000 - accuracy: 0.0000e+00 - val_loss: -3723292049408.0000 - val_accuracy: 0.0000e+00\n",
      "Epoch 35/500\n",
      "55/55 [==============================] - 0s 5ms/step - loss: -3592482193408.0000 - accuracy: 0.0000e+00 - val_loss: -4037334269952.0000 - val_accuracy: 0.0000e+00\n",
      "Epoch 36/500\n",
      "55/55 [==============================] - 0s 4ms/step - loss: -3886600683520.0000 - accuracy: 0.0000e+00 - val_loss: -4362041032704.0000 - val_accuracy: 0.0000e+00\n",
      "Epoch 37/500\n",
      "55/55 [==============================] - 0s 4ms/step - loss: -4194796044288.0000 - accuracy: 0.0000e+00 - val_loss: -4704249053184.0000 - val_accuracy: 0.0000e+00\n",
      "Epoch 38/500\n",
      "55/55 [==============================] - 0s 5ms/step - loss: -4520195653632.0000 - accuracy: 0.0000e+00 - val_loss: -5057829928960.0000 - val_accuracy: 0.0000e+00\n",
      "Epoch 39/500\n",
      "55/55 [==============================] - 0s 5ms/step - loss: -4857909477376.0000 - accuracy: 0.0000e+00 - val_loss: -5430124740608.0000 - val_accuracy: 0.0000e+00\n",
      "Epoch 40/500\n",
      "55/55 [==============================] - 0s 5ms/step - loss: -5209581420544.0000 - accuracy: 0.0000e+00 - val_loss: -5822224531456.0000 - val_accuracy: 0.0000e+00\n",
      "Epoch 41/500\n",
      "55/55 [==============================] - 0s 5ms/step - loss: -5583079473152.0000 - accuracy: 0.0000e+00 - val_loss: -6229094039552.0000 - val_accuracy: 0.0000e+00\n",
      "Epoch 42/500\n",
      "55/55 [==============================] - 0s 4ms/step - loss: -5959927726080.0000 - accuracy: 0.0000e+00 - val_loss: -6653351559168.0000 - val_accuracy: 0.0000e+00\n",
      "Epoch 43/500\n",
      "55/55 [==============================] - 0s 5ms/step - loss: -6355807633408.0000 - accuracy: 0.0000e+00 - val_loss: -7080260403200.0000 - val_accuracy: 0.0000e+00\n",
      "Epoch 44/500\n",
      "55/55 [==============================] - 0s 5ms/step - loss: -6767314993152.0000 - accuracy: 0.0000e+00 - val_loss: -7536824549376.0000 - val_accuracy: 0.0000e+00\n",
      "Epoch 45/500\n",
      "55/55 [==============================] - 0s 6ms/step - loss: -7191228579840.0000 - accuracy: 0.0000e+00 - val_loss: -8000888111104.0000 - val_accuracy: 0.0000e+00\n",
      "Epoch 46/500\n",
      "55/55 [==============================] - 0s 5ms/step - loss: -7631630499840.0000 - accuracy: 0.0000e+00 - val_loss: -8480049070080.0000 - val_accuracy: 0.0000e+00\n",
      "Epoch 47/500\n",
      "55/55 [==============================] - 0s 5ms/step - loss: -8090745307136.0000 - accuracy: 0.0000e+00 - val_loss: -8983948558336.0000 - val_accuracy: 0.0000e+00\n"
     ]
    },
    {
     "name": "stdout",
     "output_type": "stream",
     "text": [
      "Epoch 48/500\n",
      "55/55 [==============================] - 0s 4ms/step - loss: -8567405412352.0000 - accuracy: 0.0000e+00 - val_loss: -9514787012608.0000 - val_accuracy: 0.0000e+00\n",
      "Epoch 49/500\n",
      "55/55 [==============================] - 0s 4ms/step - loss: -9058462466048.0000 - accuracy: 0.0000e+00 - val_loss: -10050077720576.0000 - val_accuracy: 0.0000e+00\n",
      "Epoch 50/500\n",
      "55/55 [==============================] - 0s 5ms/step - loss: -9561410895872.0000 - accuracy: 0.0000e+00 - val_loss: -10595203022848.0000 - val_accuracy: 0.0000e+00\n",
      "Epoch 51/500\n",
      "55/55 [==============================] - 0s 5ms/step - loss: -10072893685760.0000 - accuracy: 0.0000e+00 - val_loss: -11164084862976.0000 - val_accuracy: 0.0000e+00\n",
      "Epoch 52/500\n",
      "55/55 [==============================] - 0s 5ms/step - loss: -10604991479808.0000 - accuracy: 0.0000e+00 - val_loss: -11737198755840.0000 - val_accuracy: 0.0000e+00\n",
      "Epoch 53/500\n",
      "55/55 [==============================] - 0s 5ms/step - loss: -11161049235456.0000 - accuracy: 0.0000e+00 - val_loss: -12347278098432.0000 - val_accuracy: 0.0000e+00\n",
      "Epoch 54/500\n",
      "55/55 [==============================] - 0s 5ms/step - loss: -11727389327360.0000 - accuracy: 0.0000e+00 - val_loss: -12960216907776.0000 - val_accuracy: 0.0000e+00\n",
      "Epoch 55/500\n",
      "55/55 [==============================] - 0s 4ms/step - loss: -12297214885888.0000 - accuracy: 0.0000e+00 - val_loss: -13602189737984.0000 - val_accuracy: 0.0000e+00\n",
      "Epoch 56/500\n",
      "55/55 [==============================] - 0s 5ms/step - loss: -12896010502144.0000 - accuracy: 0.0000e+00 - val_loss: -14248206925824.0000 - val_accuracy: 0.0000e+00\n",
      "Epoch 57/500\n",
      "55/55 [==============================] - 0s 5ms/step - loss: -13507494936576.0000 - accuracy: 0.0000e+00 - val_loss: -14914331607040.0000 - val_accuracy: 0.0000e+00\n",
      "Epoch 58/500\n",
      "55/55 [==============================] - 0s 4ms/step - loss: -14131462668288.0000 - accuracy: 0.0000e+00 - val_loss: -15590465994752.0000 - val_accuracy: 0.0000e+00\n",
      "Epoch 59/500\n",
      "55/55 [==============================] - 0s 4ms/step - loss: -14781164552192.0000 - accuracy: 0.0000e+00 - val_loss: -16304927932416.0000 - val_accuracy: 0.0000e+00\n",
      "Epoch 60/500\n",
      "55/55 [==============================] - 0s 4ms/step - loss: -15440165208064.0000 - accuracy: 0.0000e+00 - val_loss: -17012489191424.0000 - val_accuracy: 0.0000e+00\n",
      "Epoch 61/500\n",
      "55/55 [==============================] - 0s 4ms/step - loss: -16112274112512.0000 - accuracy: 0.0000e+00 - val_loss: -17756565012480.0000 - val_accuracy: 0.0000e+00\n",
      "Epoch 62/500\n",
      "55/55 [==============================] - 0s 5ms/step - loss: -16815644213248.0000 - accuracy: 0.0000e+00 - val_loss: -18537934487552.0000 - val_accuracy: 0.0000e+00\n",
      "Epoch 63/500\n",
      "55/55 [==============================] - 0s 4ms/step - loss: -17528787042304.0000 - accuracy: 0.0000e+00 - val_loss: -19311074738176.0000 - val_accuracy: 0.0000e+00\n",
      "Epoch 64/500\n",
      "55/55 [==============================] - 0s 5ms/step - loss: -18258199576576.0000 - accuracy: 0.0000e+00 - val_loss: -20105733865472.0000 - val_accuracy: 0.0000e+00\n",
      "Epoch 65/500\n",
      "55/55 [==============================] - 0s 4ms/step - loss: -18993496719360.0000 - accuracy: 0.0000e+00 - val_loss: -20904981561344.0000 - val_accuracy: 0.0000e+00\n",
      "Epoch 66/500\n",
      "55/55 [==============================] - 0s 5ms/step - loss: -19750040109056.0000 - accuracy: 0.0000e+00 - val_loss: -21736254865408.0000 - val_accuracy: 0.0000e+00\n",
      "Epoch 67/500\n",
      "55/55 [==============================] - 0s 4ms/step - loss: -20525543849984.0000 - accuracy: 0.0000e+00 - val_loss: -22556386000896.0000 - val_accuracy: 0.0000e+00\n",
      "Epoch 68/500\n",
      "55/55 [==============================] - 0s 5ms/step - loss: -21313385136128.0000 - accuracy: 0.0000e+00 - val_loss: -23448663359488.0000 - val_accuracy: 0.0000e+00\n",
      "Epoch 69/500\n",
      "55/55 [==============================] - 0s 4ms/step - loss: -22126557921280.0000 - accuracy: 0.0000e+00 - val_loss: -24317796548608.0000 - val_accuracy: 0.0000e+00\n",
      "Epoch 70/500\n",
      "55/55 [==============================] - 0s 5ms/step - loss: -22940821225472.0000 - accuracy: 0.0000e+00 - val_loss: -25205508407296.0000 - val_accuracy: 0.0000e+00\n",
      "Epoch 71/500\n",
      "55/55 [==============================] - 0s 5ms/step - loss: -23771800928256.0000 - accuracy: 0.0000e+00 - val_loss: -26111440322560.0000 - val_accuracy: 0.0000e+00\n",
      "Epoch 72/500\n",
      "55/55 [==============================] - 0s 5ms/step - loss: -24629443821568.0000 - accuracy: 0.0000e+00 - val_loss: -27042508701696.0000 - val_accuracy: 0.0000e+00\n",
      "Epoch 73/500\n",
      "55/55 [==============================] - 0s 4ms/step - loss: -25501261365248.0000 - accuracy: 0.0000e+00 - val_loss: -27999529336832.0000 - val_accuracy: 0.0000e+00\n",
      "Epoch 74/500\n",
      "55/55 [==============================] - 0s 4ms/step - loss: -26387461177344.0000 - accuracy: 0.0000e+00 - val_loss: -28966314311680.0000 - val_accuracy: 0.0000e+00\n",
      "Epoch 75/500\n",
      "55/55 [==============================] - 0s 5ms/step - loss: -27299791503360.0000 - accuracy: 0.0000e+00 - val_loss: -29944270815232.0000 - val_accuracy: 0.0000e+00\n",
      "Epoch 76/500\n",
      "55/55 [==============================] - 0s 4ms/step - loss: -28227030482944.0000 - accuracy: 0.0000e+00 - val_loss: -30976883294208.0000 - val_accuracy: 0.0000e+00\n",
      "Epoch 77/500\n",
      "55/55 [==============================] - 0s 5ms/step - loss: -29170514001920.0000 - accuracy: 0.0000e+00 - val_loss: -31988926906368.0000 - val_accuracy: 0.0000e+00\n",
      "Epoch 78/500\n",
      "55/55 [==============================] - 0s 4ms/step - loss: -30126576238592.0000 - accuracy: 0.0000e+00 - val_loss: -33059642540032.0000 - val_accuracy: 0.0000e+00\n",
      "Epoch 79/500\n",
      "55/55 [==============================] - 0s 5ms/step - loss: -31116574588928.0000 - accuracy: 0.0000e+00 - val_loss: -34126094663680.0000 - val_accuracy: 0.0000e+00\n",
      "Epoch 80/500\n",
      "55/55 [==============================] - 0s 4ms/step - loss: -32129031340032.0000 - accuracy: 0.0000e+00 - val_loss: -35205070979072.0000 - val_accuracy: 0.0000e+00\n",
      "Epoch 81/500\n",
      "55/55 [==============================] - 0s 5ms/step - loss: -33149918642176.0000 - accuracy: 0.0000e+00 - val_loss: -36352137625600.0000 - val_accuracy: 0.0000e+00\n",
      "Epoch 82/500\n",
      "55/55 [==============================] - 0s 4ms/step - loss: -34192446455808.0000 - accuracy: 0.0000e+00 - val_loss: -37459345801216.0000 - val_accuracy: 0.0000e+00\n",
      "Epoch 83/500\n",
      "55/55 [==============================] - 0s 6ms/step - loss: -35235806838784.0000 - accuracy: 0.0000e+00 - val_loss: -38606680883200.0000 - val_accuracy: 0.0000e+00\n",
      "Epoch 84/500\n",
      "55/55 [==============================] - 0s 4ms/step - loss: -36311662592000.0000 - accuracy: 0.0000e+00 - val_loss: -39756717096960.0000 - val_accuracy: 0.0000e+00\n",
      "Epoch 85/500\n",
      "55/55 [==============================] - 0s 5ms/step - loss: -37413015519232.0000 - accuracy: 0.0000e+00 - val_loss: -40967264534528.0000 - val_accuracy: 0.0000e+00\n",
      "Epoch 86/500\n",
      "55/55 [==============================] - 0s 4ms/step - loss: -38540356354048.0000 - accuracy: 0.0000e+00 - val_loss: -42200457019392.0000 - val_accuracy: 0.0000e+00\n",
      "Epoch 87/500\n",
      "55/55 [==============================] - 0s 4ms/step - loss: -39664790536192.0000 - accuracy: 0.0000e+00 - val_loss: -43428196909056.0000 - val_accuracy: 0.0000e+00\n",
      "Epoch 88/500\n",
      "55/55 [==============================] - 0s 5ms/step - loss: -40822951116800.0000 - accuracy: 0.0000e+00 - val_loss: -44674895052800.0000 - val_accuracy: 0.0000e+00\n",
      "Epoch 89/500\n",
      "55/55 [==============================] - 0s 4ms/step - loss: -41998174126080.0000 - accuracy: 0.0000e+00 - val_loss: -45954531065856.0000 - val_accuracy: 0.0000e+00\n",
      "Epoch 90/500\n",
      "55/55 [==============================] - 0s 5ms/step - loss: -43187544522752.0000 - accuracy: 0.0000e+00 - val_loss: -47233995112448.0000 - val_accuracy: 0.0000e+00\n",
      "Epoch 91/500\n",
      "55/55 [==============================] - 0s 4ms/step - loss: -44392853274624.0000 - accuracy: 0.0000e+00 - val_loss: -48539036024832.0000 - val_accuracy: 0.0000e+00\n",
      "Epoch 92/500\n",
      "55/55 [==============================] - 0s 5ms/step - loss: -45605015519232.0000 - accuracy: 0.0000e+00 - val_loss: -49910393077760.0000 - val_accuracy: 0.0000e+00\n",
      "Epoch 93/500\n",
      "55/55 [==============================] - 0s 4ms/step - loss: -46851340369920.0000 - accuracy: 0.0000e+00 - val_loss: -51255988715520.0000 - val_accuracy: 0.0000e+00\n",
      "Epoch 94/500\n"
     ]
    },
    {
     "name": "stdout",
     "output_type": "stream",
     "text": [
      "55/55 [==============================] - 0s 5ms/step - loss: -48116728332288.0000 - accuracy: 0.0000e+00 - val_loss: -52611570991104.0000 - val_accuracy: 0.0000e+00\n",
      "Epoch 95/500\n",
      "55/55 [==============================] - 0s 4ms/step - loss: -49402995539968.0000 - accuracy: 0.0000e+00 - val_loss: -54020261543936.0000 - val_accuracy: 0.0000e+00\n",
      "Epoch 96/500\n",
      "55/55 [==============================] - 0s 4ms/step - loss: -50711882629120.0000 - accuracy: 0.0000e+00 - val_loss: -55454105337856.0000 - val_accuracy: 0.0000e+00\n",
      "Epoch 97/500\n",
      "55/55 [==============================] - 0s 5ms/step - loss: -52034577367040.0000 - accuracy: 0.0000e+00 - val_loss: -56879308865536.0000 - val_accuracy: 0.0000e+00\n",
      "Epoch 98/500\n",
      "55/55 [==============================] - 0s 5ms/step - loss: -53385583656960.0000 - accuracy: 0.0000e+00 - val_loss: -58326821896192.0000 - val_accuracy: 0.0000e+00\n",
      "Epoch 99/500\n",
      "55/55 [==============================] - 0s 6ms/step - loss: -54757200756736.0000 - accuracy: 0.0000e+00 - val_loss: -59835676622848.0000 - val_accuracy: 0.0000e+00\n",
      "Epoch 100/500\n",
      "55/55 [==============================] - 0s 5ms/step - loss: -56137592340480.0000 - accuracy: 0.0000e+00 - val_loss: -61339187806208.0000 - val_accuracy: 0.0000e+00\n",
      "Epoch 101/500\n",
      "55/55 [==============================] - 0s 5ms/step - loss: -57540171792384.0000 - accuracy: 0.0000e+00 - val_loss: -62850768830464.0000 - val_accuracy: 0.0000e+00\n",
      "Epoch 102/500\n",
      "55/55 [==============================] - 0s 4ms/step - loss: -58959968862208.0000 - accuracy: 0.0000e+00 - val_loss: -64422357762048.0000 - val_accuracy: 0.0000e+00\n",
      "Epoch 103/500\n",
      "55/55 [==============================] - 0s 4ms/step - loss: -60410136887296.0000 - accuracy: 0.0000e+00 - val_loss: -65979866415104.0000 - val_accuracy: 0.0000e+00\n",
      "Epoch 104/500\n",
      "55/55 [==============================] - 0s 4ms/step - loss: -61861538037760.0000 - accuracy: 0.0000e+00 - val_loss: -67566399651840.0000 - val_accuracy: 0.0000e+00\n",
      "Epoch 105/500\n",
      "55/55 [==============================] - 0s 5ms/step - loss: -63351640031232.0000 - accuracy: 0.0000e+00 - val_loss: -69178052575232.0000 - val_accuracy: 0.0000e+00\n",
      "Epoch 106/500\n",
      "55/55 [==============================] - 0s 4ms/step - loss: -64857336446976.0000 - accuracy: 0.0000e+00 - val_loss: -70799381757952.0000 - val_accuracy: 0.0000e+00\n",
      "Epoch 107/500\n",
      "55/55 [==============================] - 0s 5ms/step - loss: -66403927326720.0000 - accuracy: 0.0000e+00 - val_loss: -72445134372864.0000 - val_accuracy: 0.0000e+00\n",
      "Epoch 108/500\n",
      "55/55 [==============================] - 0s 4ms/step - loss: -67937947877376.0000 - accuracy: 0.0000e+00 - val_loss: -74186240294912.0000 - val_accuracy: 0.0000e+00\n",
      "Epoch 109/500\n",
      "55/55 [==============================] - 0s 5ms/step - loss: -69528251793408.0000 - accuracy: 0.0000e+00 - val_loss: -75917061783552.0000 - val_accuracy: 0.0000e+00\n",
      "Epoch 110/500\n",
      "55/55 [==============================] - 0s 4ms/step - loss: -71143633453056.0000 - accuracy: 0.0000e+00 - val_loss: -77609119514624.0000 - val_accuracy: 0.0000e+00\n",
      "Epoch 111/500\n",
      "55/55 [==============================] - 0s 4ms/step - loss: -72763750481920.0000 - accuracy: 0.0000e+00 - val_loss: -79394592784384.0000 - val_accuracy: 0.0000e+00\n",
      "Epoch 112/500\n",
      "55/55 [==============================] - 0s 4ms/step - loss: -74416138485760.0000 - accuracy: 0.0000e+00 - val_loss: -81158767378432.0000 - val_accuracy: 0.0000e+00\n",
      "Epoch 113/500\n",
      "55/55 [==============================] - 0s 4ms/step - loss: -76074121691136.0000 - accuracy: 0.0000e+00 - val_loss: -82987282595840.0000 - val_accuracy: 0.0000e+00\n",
      "Epoch 114/500\n",
      "55/55 [==============================] - 0s 4ms/step - loss: -77758604509184.0000 - accuracy: 0.0000e+00 - val_loss: -84836769333248.0000 - val_accuracy: 0.0000e+00\n",
      "Epoch 115/500\n",
      "55/55 [==============================] - 0s 5ms/step - loss: -79475341524992.0000 - accuracy: 0.0000e+00 - val_loss: -86649958563840.0000 - val_accuracy: 0.0000e+00\n",
      "Epoch 116/500\n",
      "55/55 [==============================] - 0s 5ms/step - loss: -81193009676288.0000 - accuracy: 0.0000e+00 - val_loss: -88550448037888.0000 - val_accuracy: 0.0000e+00\n",
      "Epoch 117/500\n",
      "55/55 [==============================] - 0s 5ms/step - loss: -82933184462848.0000 - accuracy: 0.0000e+00 - val_loss: -90435275980800.0000 - val_accuracy: 0.0000e+00\n",
      "Epoch 118/500\n",
      "55/55 [==============================] - 0s 4ms/step - loss: -84697350668288.0000 - accuracy: 0.0000e+00 - val_loss: -92336486875136.0000 - val_accuracy: 0.0000e+00\n",
      "Epoch 119/500\n",
      "55/55 [==============================] - 0s 4ms/step - loss: -86474083008512.0000 - accuracy: 0.0000e+00 - val_loss: -94300176121856.0000 - val_accuracy: 0.0000e+00\n",
      "Epoch 120/500\n",
      "55/55 [==============================] - 0s 6ms/step - loss: -88287616172032.0000 - accuracy: 0.0000e+00 - val_loss: -96246182182912.0000 - val_accuracy: 0.0000e+00\n",
      "Epoch 121/500\n",
      "55/55 [==============================] - 0s 5ms/step - loss: -90117171576832.0000 - accuracy: 0.0000e+00 - val_loss: -98207849775104.0000 - val_accuracy: 0.0000e+00\n",
      "Epoch 122/500\n",
      "55/55 [==============================] - 0s 4ms/step - loss: -91974895927296.0000 - accuracy: 0.0000e+00 - val_loss: -100250383548416.0000 - val_accuracy: 0.0000e+00\n",
      "Epoch 123/500\n",
      "55/55 [==============================] - 0s 5ms/step - loss: -93851679195136.0000 - accuracy: 0.0000e+00 - val_loss: -102279403274240.0000 - val_accuracy: 0.0000e+00\n",
      "Epoch 124/500\n",
      "55/55 [==============================] - 0s 5ms/step - loss: -95731281035264.0000 - accuracy: 0.0000e+00 - val_loss: -104335174270976.0000 - val_accuracy: 0.0000e+00\n",
      "Epoch 125/500\n",
      "55/55 [==============================] - 0s 4ms/step - loss: -97637265047552.0000 - accuracy: 0.0000e+00 - val_loss: -106412856311808.0000 - val_accuracy: 0.0000e+00\n",
      "Epoch 126/500\n",
      "55/55 [==============================] - 0s 4ms/step - loss: -99607489019904.0000 - accuracy: 0.0000e+00 - val_loss: -108537069961216.0000 - val_accuracy: 0.0000e+00\n",
      "Epoch 127/500\n",
      "55/55 [==============================] - 0s 5ms/step - loss: -101603189194752.0000 - accuracy: 0.0000e+00 - val_loss: -110705013424128.0000 - val_accuracy: 0.0000e+00\n",
      "Epoch 128/500\n",
      "55/55 [==============================] - 0s 4ms/step - loss: -103600894246912.0000 - accuracy: 0.0000e+00 - val_loss: -112855626022912.0000 - val_accuracy: 0.0000e+00\n",
      "Epoch 129/500\n",
      "55/55 [==============================] - 0s 4ms/step - loss: -105603447914496.0000 - accuracy: 0.0000e+00 - val_loss: -115006205067264.0000 - val_accuracy: 0.0000e+00\n",
      "Epoch 130/500\n",
      "55/55 [==============================] - 0s 5ms/step - loss: -107627736465408.0000 - accuracy: 0.0000e+00 - val_loss: -117233422434304.0000 - val_accuracy: 0.0000e+00\n",
      "Epoch 131/500\n",
      "55/55 [==============================] - 0s 5ms/step - loss: -109678440742912.0000 - accuracy: 0.0000e+00 - val_loss: -119453266214912.0000 - val_accuracy: 0.0000e+00\n",
      "Epoch 132/500\n",
      "55/55 [==============================] - 0s 5ms/step - loss: -111755921457152.0000 - accuracy: 0.0000e+00 - val_loss: -121711622094848.0000 - val_accuracy: 0.0000e+00\n",
      "Epoch 133/500\n",
      "55/55 [==============================] - 0s 5ms/step - loss: -113854080090112.0000 - accuracy: 0.0000e+00 - val_loss: -123937925103616.0000 - val_accuracy: 0.0000e+00\n",
      "Epoch 134/500\n",
      "55/55 [==============================] - 0s 5ms/step - loss: -115959536812032.0000 - accuracy: 0.0000e+00 - val_loss: -126293303623680.0000 - val_accuracy: 0.0000e+00\n",
      "Epoch 135/500\n",
      "55/55 [==============================] - 0s 5ms/step - loss: -118108144533504.0000 - accuracy: 0.0000e+00 - val_loss: -128606814601216.0000 - val_accuracy: 0.0000e+00\n",
      "Epoch 136/500\n",
      "55/55 [==============================] - 0s 5ms/step - loss: -120276046053376.0000 - accuracy: 0.0000e+00 - val_loss: -130937052463104.0000 - val_accuracy: 0.0000e+00\n",
      "Epoch 137/500\n",
      "55/55 [==============================] - 0s 4ms/step - loss: -122466588426240.0000 - accuracy: 0.0000e+00 - val_loss: -133353063841792.0000 - val_accuracy: 0.0000e+00\n",
      "Epoch 138/500\n",
      "55/55 [==============================] - 0s 5ms/step - loss: -124723417579520.0000 - accuracy: 0.0000e+00 - val_loss: -135761290592256.0000 - val_accuracy: 0.0000e+00\n",
      "Epoch 139/500\n",
      "55/55 [==============================] - 0s 5ms/step - loss: -126953545793536.0000 - accuracy: 0.0000e+00 - val_loss: -138201687654400.0000 - val_accuracy: 0.0000e+00\n"
     ]
    },
    {
     "name": "stdout",
     "output_type": "stream",
     "text": [
      "Epoch 140/500\n",
      "55/55 [==============================] - 0s 4ms/step - loss: -129209729024000.0000 - accuracy: 0.0000e+00 - val_loss: -140644123148288.0000 - val_accuracy: 0.0000e+00\n",
      "Epoch 141/500\n",
      "55/55 [==============================] - 0s 5ms/step - loss: -131508408942592.0000 - accuracy: 0.0000e+00 - val_loss: -143122487050240.0000 - val_accuracy: 0.0000e+00\n",
      "Epoch 142/500\n",
      "55/55 [==============================] - 0s 4ms/step - loss: -133834519609344.0000 - accuracy: 0.0000e+00 - val_loss: -145634170503168.0000 - val_accuracy: 0.0000e+00\n",
      "Epoch 143/500\n",
      "55/55 [==============================] - 0s 4ms/step - loss: -136182071558144.0000 - accuracy: 0.0000e+00 - val_loss: -148175801286656.0000 - val_accuracy: 0.0000e+00\n",
      "Epoch 144/500\n",
      "55/55 [==============================] - 0s 5ms/step - loss: -138527668961280.0000 - accuracy: 0.0000e+00 - val_loss: -150765633011712.0000 - val_accuracy: 0.0000e+00\n",
      "Epoch 145/500\n",
      "55/55 [==============================] - 0s 5ms/step - loss: -140911065432064.0000 - accuracy: 0.0000e+00 - val_loss: -153321776087040.0000 - val_accuracy: 0.0000e+00\n",
      "Epoch 146/500\n",
      "55/55 [==============================] - 0s 5ms/step - loss: -143307002871808.0000 - accuracy: 0.0000e+00 - val_loss: -155921640587264.0000 - val_accuracy: 0.0000e+00\n",
      "Epoch 147/500\n",
      "55/55 [==============================] - 0s 5ms/step - loss: -145743574728704.0000 - accuracy: 0.0000e+00 - val_loss: -158557995532288.0000 - val_accuracy: 0.0000e+00\n",
      "Epoch 148/500\n",
      "55/55 [==============================] - 0s 5ms/step - loss: -148191504760832.0000 - accuracy: 0.0000e+00 - val_loss: -161195994644480.0000 - val_accuracy: 0.0000e+00\n",
      "Epoch 149/500\n",
      "55/55 [==============================] - 0s 4ms/step - loss: -150685555359744.0000 - accuracy: 0.0000e+00 - val_loss: -163971902472192.0000 - val_accuracy: 0.0000e+00\n",
      "Epoch 150/500\n",
      "55/55 [==============================] - 0s 4ms/step - loss: -153217086259200.0000 - accuracy: 0.0000e+00 - val_loss: -166666457579520.0000 - val_accuracy: 0.0000e+00\n",
      "Epoch 151/500\n",
      "55/55 [==============================] - 0s 5ms/step - loss: -155808327270400.0000 - accuracy: 0.0000e+00 - val_loss: -169529757925376.0000 - val_accuracy: 0.0000e+00\n",
      "Epoch 152/500\n",
      "55/55 [==============================] - 0s 5ms/step - loss: -158360594808832.0000 - accuracy: 0.0000e+00 - val_loss: -172277966569472.0000 - val_accuracy: 0.0000e+00\n",
      "Epoch 153/500\n",
      "55/55 [==============================] - 0s 4ms/step - loss: -160954587283456.0000 - accuracy: 0.0000e+00 - val_loss: -175001714032640.0000 - val_accuracy: 0.0000e+00\n",
      "Epoch 154/500\n",
      "55/55 [==============================] - 0s 4ms/step - loss: -163532188418048.0000 - accuracy: 0.0000e+00 - val_loss: -177832516911104.0000 - val_accuracy: 0.0000e+00\n",
      "Epoch 155/500\n",
      "55/55 [==============================] - 0s 5ms/step - loss: -166167452844032.0000 - accuracy: 0.0000e+00 - val_loss: -180665400164352.0000 - val_accuracy: 0.0000e+00\n",
      "Epoch 156/500\n",
      "55/55 [==============================] - 0s 4ms/step - loss: -168805837832192.0000 - accuracy: 0.0000e+00 - val_loss: -183584434421760.0000 - val_accuracy: 0.0000e+00\n",
      "Epoch 157/500\n",
      "55/55 [==============================] - 0s 4ms/step - loss: -171477743697920.0000 - accuracy: 0.0000e+00 - val_loss: -186506236919808.0000 - val_accuracy: 0.0000e+00\n",
      "Epoch 158/500\n",
      "55/55 [==============================] - 0s 4ms/step - loss: -174204024520704.0000 - accuracy: 0.0000e+00 - val_loss: -189374436212736.0000 - val_accuracy: 0.0000e+00\n",
      "Epoch 159/500\n",
      "55/55 [==============================] - 0s 5ms/step - loss: -176916313145344.0000 - accuracy: 0.0000e+00 - val_loss: -192332511051776.0000 - val_accuracy: 0.0000e+00\n",
      "Epoch 160/500\n",
      "55/55 [==============================] - 0s 5ms/step - loss: -179676903374848.0000 - accuracy: 0.0000e+00 - val_loss: -195298940944384.0000 - val_accuracy: 0.0000e+00\n",
      "Epoch 161/500\n",
      "55/55 [==============================] - 0s 5ms/step - loss: -182468279795712.0000 - accuracy: 0.0000e+00 - val_loss: -198399454347264.0000 - val_accuracy: 0.0000e+00\n",
      "Epoch 162/500\n",
      "55/55 [==============================] - 0s 4ms/step - loss: -185302220013568.0000 - accuracy: 0.0000e+00 - val_loss: -201470221746176.0000 - val_accuracy: 0.0000e+00\n",
      "Epoch 163/500\n",
      "55/55 [==============================] - 0s 4ms/step - loss: -188204107956224.0000 - accuracy: 0.0000e+00 - val_loss: -204574291918848.0000 - val_accuracy: 0.0000e+00\n",
      "Epoch 164/500\n",
      "55/55 [==============================] - 0s 4ms/step - loss: -191102925668352.0000 - accuracy: 0.0000e+00 - val_loss: -207727854878720.0000 - val_accuracy: 0.0000e+00\n",
      "Epoch 165/500\n",
      "55/55 [==============================] - 0s 5ms/step - loss: -193974379741184.0000 - accuracy: 0.0000e+00 - val_loss: -210825029615616.0000 - val_accuracy: 0.0000e+00\n",
      "Epoch 166/500\n",
      "55/55 [==============================] - 0s 4ms/step - loss: -196898514272256.0000 - accuracy: 0.0000e+00 - val_loss: -213927724056576.0000 - val_accuracy: 0.0000e+00\n",
      "Epoch 167/500\n",
      "55/55 [==============================] - 0s 5ms/step - loss: -199818538385408.0000 - accuracy: 0.0000e+00 - val_loss: -217213692805120.0000 - val_accuracy: 0.0000e+00\n",
      "Epoch 168/500\n",
      "55/55 [==============================] - 0s 4ms/step - loss: -202773459107840.0000 - accuracy: 0.0000e+00 - val_loss: -220432653352960.0000 - val_accuracy: 0.0000e+00\n",
      "Epoch 169/500\n",
      "55/55 [==============================] - 0s 4ms/step - loss: -205747556188160.0000 - accuracy: 0.0000e+00 - val_loss: -223596567855104.0000 - val_accuracy: 0.0000e+00\n",
      "Epoch 170/500\n",
      "55/55 [==============================] - 0s 5ms/step - loss: -208773746524160.0000 - accuracy: 0.0000e+00 - val_loss: -226861162430464.0000 - val_accuracy: 0.0000e+00\n",
      "Epoch 171/500\n",
      "55/55 [==============================] - 0s 4ms/step - loss: -211854076936192.0000 - accuracy: 0.0000e+00 - val_loss: -230181021155328.0000 - val_accuracy: 0.0000e+00\n",
      "Epoch 172/500\n",
      "55/55 [==============================] - 0s 4ms/step - loss: -214929424515072.0000 - accuracy: 0.0000e+00 - val_loss: -233524317650944.0000 - val_accuracy: 0.0000e+00\n",
      "Epoch 173/500\n",
      "55/55 [==============================] - 0s 4ms/step - loss: -218086359695360.0000 - accuracy: 0.0000e+00 - val_loss: -236920579817472.0000 - val_accuracy: 0.0000e+00\n",
      "Epoch 174/500\n",
      "55/55 [==============================] - 0s 4ms/step - loss: -221213045555200.0000 - accuracy: 0.0000e+00 - val_loss: -240334407729152.0000 - val_accuracy: 0.0000e+00\n",
      "Epoch 175/500\n",
      "55/55 [==============================] - 0s 5ms/step - loss: -224402494980096.0000 - accuracy: 0.0000e+00 - val_loss: -243854485749760.0000 - val_accuracy: 0.0000e+00\n",
      "Epoch 176/500\n",
      "55/55 [==============================] - 0s 4ms/step - loss: -227580737224704.0000 - accuracy: 0.0000e+00 - val_loss: -247228467773440.0000 - val_accuracy: 0.0000e+00\n",
      "Epoch 177/500\n",
      "55/55 [==============================] - 0s 4ms/step - loss: -230783558090752.0000 - accuracy: 0.0000e+00 - val_loss: -250733026869248.0000 - val_accuracy: 0.0000e+00\n",
      "Epoch 178/500\n",
      "55/55 [==============================] - 0s 5ms/step - loss: -234027600576512.0000 - accuracy: 0.0000e+00 - val_loss: -254197387755520.0000 - val_accuracy: 0.0000e+00\n",
      "Epoch 179/500\n",
      "55/55 [==============================] - 0s 4ms/step - loss: -237264462413824.0000 - accuracy: 0.0000e+00 - val_loss: -257775917596672.0000 - val_accuracy: 0.0000e+00\n",
      "Epoch 180/500\n",
      "55/55 [==============================] - 0s 4ms/step - loss: -240542411653120.0000 - accuracy: 0.0000e+00 - val_loss: -261277725229056.0000 - val_accuracy: 0.0000e+00\n",
      "Epoch 181/500\n",
      "55/55 [==============================] - 0s 6ms/step - loss: -243855978921984.0000 - accuracy: 0.0000e+00 - val_loss: -264873216835584.0000 - val_accuracy: 0.0000e+00\n",
      "Epoch 182/500\n",
      "55/55 [==============================] - 0s 4ms/step - loss: -247180099059712.0000 - accuracy: 0.0000e+00 - val_loss: -268466611290112.0000 - val_accuracy: 0.0000e+00\n",
      "Epoch 183/500\n",
      "55/55 [==============================] - 0s 4ms/step - loss: -250537773629440.0000 - accuracy: 0.0000e+00 - val_loss: -272147532480512.0000 - val_accuracy: 0.0000e+00\n",
      "Epoch 184/500\n",
      "55/55 [==============================] - 0s 4ms/step - loss: -253916386164736.0000 - accuracy: 0.0000e+00 - val_loss: -275743997165568.0000 - val_accuracy: 0.0000e+00\n",
      "Epoch 185/500\n"
     ]
    },
    {
     "name": "stdout",
     "output_type": "stream",
     "text": [
      "55/55 [==============================] - 0s 4ms/step - loss: -257378901557248.0000 - accuracy: 0.0000e+00 - val_loss: -279476743176192.0000 - val_accuracy: 0.0000e+00\n",
      "Epoch 186/500\n",
      "55/55 [==============================] - 0s 4ms/step - loss: -260825092718592.0000 - accuracy: 0.0000e+00 - val_loss: -283237893013504.0000 - val_accuracy: 0.0000e+00\n",
      "Epoch 187/500\n",
      "55/55 [==============================] - 0s 4ms/step - loss: -264361226534912.0000 - accuracy: 0.0000e+00 - val_loss: -287084505989120.0000 - val_accuracy: 0.0000e+00\n",
      "Epoch 188/500\n",
      "55/55 [==============================] - 0s 4ms/step - loss: -267908164878336.0000 - accuracy: 0.0000e+00 - val_loss: -290953600434176.0000 - val_accuracy: 0.0000e+00\n",
      "Epoch 189/500\n",
      "55/55 [==============================] - 0s 4ms/step - loss: -271448023236608.0000 - accuracy: 0.0000e+00 - val_loss: -294754914926592.0000 - val_accuracy: 0.0000e+00\n",
      "Epoch 190/500\n",
      "55/55 [==============================] - 0s 4ms/step - loss: -275004289712128.0000 - accuracy: 0.0000e+00 - val_loss: -298648604770304.0000 - val_accuracy: 0.0000e+00\n",
      "Epoch 191/500\n",
      "55/55 [==============================] - 0s 4ms/step - loss: -278594362277888.0000 - accuracy: 0.0000e+00 - val_loss: -302499277832192.0000 - val_accuracy: 0.0000e+00\n",
      "Epoch 192/500\n",
      "55/55 [==============================] - 0s 5ms/step - loss: -282231394271232.0000 - accuracy: 0.0000e+00 - val_loss: -306399074582528.0000 - val_accuracy: 0.0000e+00\n",
      "Epoch 193/500\n",
      "55/55 [==============================] - 0s 5ms/step - loss: -285928958459904.0000 - accuracy: 0.0000e+00 - val_loss: -310503553368064.0000 - val_accuracy: 0.0000e+00\n",
      "Epoch 194/500\n",
      "55/55 [==============================] - 0s 4ms/step - loss: -289652929986560.0000 - accuracy: 0.0000e+00 - val_loss: -314524347400192.0000 - val_accuracy: 0.0000e+00\n",
      "Epoch 195/500\n",
      "55/55 [==============================] - 0s 4ms/step - loss: -293370022854656.0000 - accuracy: 0.0000e+00 - val_loss: -318492259647488.0000 - val_accuracy: 0.0000e+00\n",
      "Epoch 196/500\n",
      "55/55 [==============================] - 0s 4ms/step - loss: -297126911279104.0000 - accuracy: 0.0000e+00 - val_loss: -322624722829312.0000 - val_accuracy: 0.0000e+00\n",
      "Epoch 197/500\n",
      "55/55 [==============================] - 0s 4ms/step - loss: -300917589016576.0000 - accuracy: 0.0000e+00 - val_loss: -326621525442560.0000 - val_accuracy: 0.0000e+00\n",
      "Epoch 198/500\n",
      "55/55 [==============================] - 0s 4ms/step - loss: -304746418143232.0000 - accuracy: 0.0000e+00 - val_loss: -330868207910912.0000 - val_accuracy: 0.0000e+00\n",
      "Epoch 199/500\n",
      "55/55 [==============================] - 0s 4ms/step - loss: -308610546532352.0000 - accuracy: 0.0000e+00 - val_loss: -334993624662016.0000 - val_accuracy: 0.0000e+00\n",
      "Epoch 200/500\n",
      "55/55 [==============================] - 0s 4ms/step - loss: -312455917993984.0000 - accuracy: 0.0000e+00 - val_loss: -339124745666560.0000 - val_accuracy: 0.0000e+00\n",
      "Epoch 201/500\n",
      "55/55 [==============================] - 0s 4ms/step - loss: -316336051847168.0000 - accuracy: 0.0000e+00 - val_loss: -343437597474816.0000 - val_accuracy: 0.0000e+00\n",
      "Epoch 202/500\n",
      "55/55 [==============================] - 0s 4ms/step - loss: -320282791247872.0000 - accuracy: 0.0000e+00 - val_loss: -347653577637888.0000 - val_accuracy: 0.0000e+00\n",
      "Epoch 203/500\n",
      "55/55 [==============================] - 0s 4ms/step - loss: -324228490461184.0000 - accuracy: 0.0000e+00 - val_loss: -352017264410624.0000 - val_accuracy: 0.0000e+00\n",
      "Epoch 204/500\n",
      "55/55 [==============================] - 0s 4ms/step - loss: -328287804981248.0000 - accuracy: 0.0000e+00 - val_loss: -356288978485248.0000 - val_accuracy: 0.0000e+00\n",
      "Epoch 205/500\n",
      "55/55 [==============================] - 0s 4ms/step - loss: -332277661827072.0000 - accuracy: 0.0000e+00 - val_loss: -360637532209152.0000 - val_accuracy: 0.0000e+00\n",
      "Epoch 206/500\n",
      "55/55 [==============================] - 0s 4ms/step - loss: -336315065303040.0000 - accuracy: 0.0000e+00 - val_loss: -365007527215104.0000 - val_accuracy: 0.0000e+00\n",
      "Epoch 207/500\n",
      "55/55 [==============================] - 0s 4ms/step - loss: -340419711860736.0000 - accuracy: 0.0000e+00 - val_loss: -369427618988032.0000 - val_accuracy: 0.0000e+00\n",
      "Epoch 208/500\n",
      "55/55 [==============================] - 0s 4ms/step - loss: -344578414608384.0000 - accuracy: 0.0000e+00 - val_loss: -373924919508992.0000 - val_accuracy: 0.0000e+00\n",
      "Epoch 209/500\n",
      "55/55 [==============================] - 0s 4ms/step - loss: -348746680369152.0000 - accuracy: 0.0000e+00 - val_loss: -378442319134720.0000 - val_accuracy: 0.0000e+00\n",
      "Epoch 210/500\n",
      "55/55 [==============================] - 0s 5ms/step - loss: -352965479104512.0000 - accuracy: 0.0000e+00 - val_loss: -383054006714368.0000 - val_accuracy: 0.0000e+00\n",
      "Epoch 211/500\n",
      "55/55 [==============================] - 0s 5ms/step - loss: -357198068711424.0000 - accuracy: 0.0000e+00 - val_loss: -387629220626432.0000 - val_accuracy: 0.0000e+00\n",
      "Epoch 212/500\n",
      "55/55 [==============================] - 0s 4ms/step - loss: -361442905686016.0000 - accuracy: 0.0000e+00 - val_loss: -392225104068608.0000 - val_accuracy: 0.0000e+00\n",
      "Epoch 213/500\n",
      "55/55 [==============================] - 0s 4ms/step - loss: -365690225688576.0000 - accuracy: 0.0000e+00 - val_loss: -396926683971584.0000 - val_accuracy: 0.0000e+00\n",
      "Epoch 214/500\n",
      "55/55 [==============================] - 0s 4ms/step - loss: -370033075159040.0000 - accuracy: 0.0000e+00 - val_loss: -401498542440448.0000 - val_accuracy: 0.0000e+00\n",
      "Epoch 215/500\n",
      "55/55 [==============================] - 0s 4ms/step - loss: -374329283969024.0000 - accuracy: 0.0000e+00 - val_loss: -406169822691328.0000 - val_accuracy: 0.0000e+00\n",
      "Epoch 216/500\n",
      "55/55 [==============================] - 0s 4ms/step - loss: -378682266877952.0000 - accuracy: 0.0000e+00 - val_loss: -410853887180800.0000 - val_accuracy: 0.0000e+00\n",
      "Epoch 217/500\n",
      "55/55 [==============================] - 0s 5ms/step - loss: -383022935310336.0000 - accuracy: 0.0000e+00 - val_loss: -415588887298048.0000 - val_accuracy: 0.0000e+00\n",
      "Epoch 218/500\n",
      "55/55 [==============================] - 0s 4ms/step - loss: -387452690759680.0000 - accuracy: 0.0000e+00 - val_loss: -420332309577728.0000 - val_accuracy: 0.0000e+00\n",
      "Epoch 219/500\n",
      "55/55 [==============================] - 0s 4ms/step - loss: -391919087648768.0000 - accuracy: 0.0000e+00 - val_loss: -425236256260096.0000 - val_accuracy: 0.0000e+00\n",
      "Epoch 220/500\n",
      "55/55 [==============================] - 0s 4ms/step - loss: -396434775998464.0000 - accuracy: 0.0000e+00 - val_loss: -430007226728448.0000 - val_accuracy: 0.0000e+00\n",
      "Epoch 221/500\n",
      "55/55 [==============================] - 0s 4ms/step - loss: -400988884172800.0000 - accuracy: 0.0000e+00 - val_loss: -435100319744000.0000 - val_accuracy: 0.0000e+00\n",
      "Epoch 222/500\n",
      "55/55 [==============================] - 0s 4ms/step - loss: -405596847210496.0000 - accuracy: 0.0000e+00 - val_loss: -439979134156800.0000 - val_accuracy: 0.0000e+00\n",
      "Epoch 223/500\n",
      "55/55 [==============================] - 0s 4ms/step - loss: -410152163344384.0000 - accuracy: 0.0000e+00 - val_loss: -444906266951680.0000 - val_accuracy: 0.0000e+00\n",
      "Epoch 224/500\n",
      "55/55 [==============================] - 0s 5ms/step - loss: -414740597702656.0000 - accuracy: 0.0000e+00 - val_loss: -449874973687808.0000 - val_accuracy: 0.0000e+00\n",
      "Epoch 225/500\n",
      "55/55 [==============================] - 0s 7ms/step - loss: -419343594684416.0000 - accuracy: 0.0000e+00 - val_loss: -454933673410560.0000 - val_accuracy: 0.0000e+00\n",
      "Epoch 226/500\n",
      "55/55 [==============================] - 1s 10ms/step - loss: -424083695075328.0000 - accuracy: 0.0000e+00 - val_loss: -459996500328448.0000 - val_accuracy: 0.0000e+00\n",
      "Epoch 227/500\n",
      "55/55 [==============================] - 0s 4ms/step - loss: -428808930852864.0000 - accuracy: 0.0000e+00 - val_loss: -465129959325696.0000 - val_accuracy: 0.0000e+00\n",
      "Epoch 228/500\n",
      "55/55 [==============================] - 0s 4ms/step - loss: -433559567335424.0000 - accuracy: 0.0000e+00 - val_loss: -470200839307264.0000 - val_accuracy: 0.0000e+00\n",
      "Epoch 229/500\n",
      "55/55 [==============================] - 0s 8ms/step - loss: -438316344279040.0000 - accuracy: 0.0000e+00 - val_loss: -475409728667648.0000 - val_accuracy: 0.0000e+00\n",
      "Epoch 230/500\n"
     ]
    },
    {
     "name": "stdout",
     "output_type": "stream",
     "text": [
      "55/55 [==============================] - 0s 6ms/step - loss: -443152511008768.0000 - accuracy: 0.0000e+00 - val_loss: -480632241127424.0000 - val_accuracy: 0.0000e+00\n",
      "Epoch 231/500\n",
      "55/55 [==============================] - 0s 5ms/step - loss: -447991060103168.0000 - accuracy: 0.0000e+00 - val_loss: -485934780907520.0000 - val_accuracy: 0.0000e+00\n",
      "Epoch 232/500\n",
      "55/55 [==============================] - 0s 5ms/step - loss: -452837830033408.0000 - accuracy: 0.0000e+00 - val_loss: -491242991386624.0000 - val_accuracy: 0.0000e+00\n",
      "Epoch 233/500\n",
      "55/55 [==============================] - 0s 5ms/step - loss: -457775767355392.0000 - accuracy: 0.0000e+00 - val_loss: -496426815586304.0000 - val_accuracy: 0.0000e+00\n",
      "Epoch 234/500\n",
      "55/55 [==============================] - 0s 5ms/step - loss: -462657970765824.0000 - accuracy: 0.0000e+00 - val_loss: -501812201259008.0000 - val_accuracy: 0.0000e+00\n",
      "Epoch 235/500\n",
      "55/55 [==============================] - 0s 5ms/step - loss: -467667009929216.0000 - accuracy: 0.0000e+00 - val_loss: -507260803481600.0000 - val_accuracy: 0.0000e+00\n",
      "Epoch 236/500\n",
      "55/55 [==============================] - 0s 5ms/step - loss: -472708127129600.0000 - accuracy: 0.0000e+00 - val_loss: -512643471245312.0000 - val_accuracy: 0.0000e+00\n",
      "Epoch 237/500\n",
      "55/55 [==============================] - 0s 4ms/step - loss: -477717904490496.0000 - accuracy: 0.0000e+00 - val_loss: -518041741819904.0000 - val_accuracy: 0.0000e+00\n",
      "Epoch 238/500\n",
      "55/55 [==============================] - 0s 5ms/step - loss: -482798414594048.0000 - accuracy: 0.0000e+00 - val_loss: -523562519625728.0000 - val_accuracy: 0.0000e+00\n",
      "Epoch 239/500\n",
      "55/55 [==============================] - 0s 4ms/step - loss: -487928350375936.0000 - accuracy: 0.0000e+00 - val_loss: -529119402000384.0000 - val_accuracy: 0.0000e+00\n",
      "Epoch 240/500\n",
      "55/55 [==============================] - 0s 5ms/step - loss: -493076774649856.0000 - accuracy: 0.0000e+00 - val_loss: -534681988628480.0000 - val_accuracy: 0.0000e+00\n",
      "Epoch 241/500\n",
      "55/55 [==============================] - 0s 9ms/step - loss: -498274960146432.0000 - accuracy: 0.0000e+00 - val_loss: -540172399673344.0000 - val_accuracy: 0.0000e+00\n",
      "Epoch 242/500\n",
      "55/55 [==============================] - 0s 6ms/step - loss: -503550085955584.0000 - accuracy: 0.0000e+00 - val_loss: -546041640255488.0000 - val_accuracy: 0.0000e+00\n",
      "Epoch 243/500\n",
      "55/55 [==============================] - 0s 5ms/step - loss: -508812796624896.0000 - accuracy: 0.0000e+00 - val_loss: -551752302592000.0000 - val_accuracy: 0.0000e+00\n",
      "Epoch 244/500\n",
      "55/55 [==============================] - 0s 5ms/step - loss: -514093458915328.0000 - accuracy: 0.0000e+00 - val_loss: -557423572025344.0000 - val_accuracy: 0.0000e+00\n",
      "Epoch 245/500\n",
      "55/55 [==============================] - 0s 5ms/step - loss: -519417439977472.0000 - accuracy: 0.0000e+00 - val_loss: -563243219156992.0000 - val_accuracy: 0.0000e+00\n",
      "Epoch 246/500\n",
      "55/55 [==============================] - 0s 5ms/step - loss: -524807389052928.0000 - accuracy: 0.0000e+00 - val_loss: -568959417974784.0000 - val_accuracy: 0.0000e+00\n",
      "Epoch 247/500\n",
      "55/55 [==============================] - 0s 5ms/step - loss: -530180460249088.0000 - accuracy: 0.0000e+00 - val_loss: -574916336287744.0000 - val_accuracy: 0.0000e+00\n",
      "Epoch 248/500\n",
      "55/55 [==============================] - 0s 5ms/step - loss: -535609433128960.0000 - accuracy: 0.0000e+00 - val_loss: -580651862458368.0000 - val_accuracy: 0.0000e+00\n",
      "Epoch 249/500\n",
      "55/55 [==============================] - 0s 6ms/step - loss: -541155678748672.0000 - accuracy: 0.0000e+00 - val_loss: -586704478011392.0000 - val_accuracy: 0.0000e+00\n",
      "Epoch 250/500\n",
      "55/55 [==============================] - 0s 6ms/step - loss: -546670282539008.0000 - accuracy: 0.0000e+00 - val_loss: -592656698703872.0000 - val_accuracy: 0.0000e+00\n",
      "Epoch 251/500\n",
      "55/55 [==============================] - 0s 5ms/step - loss: -552238237876224.0000 - accuracy: 0.0000e+00 - val_loss: -598697368879104.0000 - val_accuracy: 0.0000e+00\n",
      "Epoch 252/500\n",
      "55/55 [==============================] - 0s 6ms/step - loss: -557823742181376.0000 - accuracy: 0.0000e+00 - val_loss: -604815281356800.0000 - val_accuracy: 0.0000e+00\n",
      "Epoch 253/500\n",
      "55/55 [==============================] - 0s 5ms/step - loss: -563398441959424.0000 - accuracy: 0.0000e+00 - val_loss: -610752201228288.0000 - val_accuracy: 0.0000e+00\n",
      "Epoch 254/500\n",
      "55/55 [==============================] - 0s 4ms/step - loss: -569014178807808.0000 - accuracy: 0.0000e+00 - val_loss: -616823942807552.0000 - val_accuracy: 0.0000e+00\n",
      "Epoch 255/500\n",
      "55/55 [==============================] - 0s 5ms/step - loss: -574674140397568.0000 - accuracy: 0.0000e+00 - val_loss: -622964001210368.0000 - val_accuracy: 0.0000e+00\n",
      "Epoch 256/500\n",
      "55/55 [==============================] - 0s 6ms/step - loss: -580380809756672.0000 - accuracy: 0.0000e+00 - val_loss: -629112515330048.0000 - val_accuracy: 0.0000e+00\n",
      "Epoch 257/500\n",
      "55/55 [==============================] - 0s 5ms/step - loss: -586148615290880.0000 - accuracy: 0.0000e+00 - val_loss: -635372430163968.0000 - val_accuracy: 0.0000e+00\n",
      "Epoch 258/500\n",
      "55/55 [==============================] - 0s 5ms/step - loss: -591878772752384.0000 - accuracy: 0.0000e+00 - val_loss: -641621540470784.0000 - val_accuracy: 0.0000e+00\n",
      "Epoch 259/500\n",
      "55/55 [==============================] - 0s 8ms/step - loss: -597664496353280.0000 - accuracy: 0.0000e+00 - val_loss: -647918969159680.0000 - val_accuracy: 0.0000e+00\n",
      "Epoch 260/500\n",
      "55/55 [==============================] - 0s 5ms/step - loss: -603501491126272.0000 - accuracy: 0.0000e+00 - val_loss: -654126941732864.0000 - val_accuracy: 0.0000e+00\n",
      "Epoch 261/500\n",
      "55/55 [==============================] - 0s 7ms/step - loss: -609362041110528.0000 - accuracy: 0.0000e+00 - val_loss: -660629186674688.0000 - val_accuracy: 0.0000e+00\n",
      "Epoch 262/500\n",
      "55/55 [==============================] - 0s 5ms/step - loss: -615339763171328.0000 - accuracy: 0.0000e+00 - val_loss: -666943593906176.0000 - val_accuracy: 0.0000e+00\n",
      "Epoch 263/500\n",
      "55/55 [==============================] - 0s 5ms/step - loss: -621309901930496.0000 - accuracy: 0.0000e+00 - val_loss: -673394634784768.0000 - val_accuracy: 0.0000e+00\n",
      "Epoch 264/500\n",
      "55/55 [==============================] - 0s 6ms/step - loss: -627234943533056.0000 - accuracy: 0.0000e+00 - val_loss: -679894732242944.0000 - val_accuracy: 0.0000e+00\n",
      "Epoch 265/500\n",
      "55/55 [==============================] - 0s 6ms/step - loss: -633274271531008.0000 - accuracy: 0.0000e+00 - val_loss: -686237996285952.0000 - val_accuracy: 0.0000e+00\n",
      "Epoch 266/500\n",
      "55/55 [==============================] - 0s 6ms/step - loss: -639260449308672.0000 - accuracy: 0.0000e+00 - val_loss: -692939151900672.0000 - val_accuracy: 0.0000e+00\n",
      "Epoch 267/500\n",
      "55/55 [==============================] - 0s 6ms/step - loss: -645338096467968.0000 - accuracy: 0.0000e+00 - val_loss: -699417438978048.0000 - val_accuracy: 0.0000e+00\n",
      "Epoch 268/500\n",
      "55/55 [==============================] - 0s 5ms/step - loss: -651476611366912.0000 - accuracy: 0.0000e+00 - val_loss: -705988738940928.0000 - val_accuracy: 0.0000e+00\n",
      "Epoch 269/500\n",
      "55/55 [==============================] - 0s 5ms/step - loss: -657641164505088.0000 - accuracy: 0.0000e+00 - val_loss: -712705195376640.0000 - val_accuracy: 0.0000e+00\n",
      "Epoch 270/500\n",
      "55/55 [==============================] - 0s 5ms/step - loss: -663922151522304.0000 - accuracy: 0.0000e+00 - val_loss: -719505873436672.0000 - val_accuracy: 0.0000e+00\n",
      "Epoch 271/500\n",
      "55/55 [==============================] - 0s 5ms/step - loss: -670208373030912.0000 - accuracy: 0.0000e+00 - val_loss: -726198237790208.0000 - val_accuracy: 0.0000e+00\n",
      "Epoch 272/500\n",
      "55/55 [==============================] - 0s 5ms/step - loss: -676501506752512.0000 - accuracy: 0.0000e+00 - val_loss: -733131925618688.0000 - val_accuracy: 0.0000e+00\n",
      "Epoch 273/500\n",
      "55/55 [==============================] - 0s 5ms/step - loss: -682778735673344.0000 - accuracy: 0.0000e+00 - val_loss: -739908847140864.0000 - val_accuracy: 0.0000e+00\n",
      "Epoch 274/500\n",
      "55/55 [==============================] - 0s 5ms/step - loss: -689096028585984.0000 - accuracy: 0.0000e+00 - val_loss: -746738449121280.0000 - val_accuracy: 0.0000e+00\n",
      "Epoch 275/500\n"
     ]
    },
    {
     "name": "stdout",
     "output_type": "stream",
     "text": [
      "55/55 [==============================] - 0s 6ms/step - loss: -695494858768384.0000 - accuracy: 0.0000e+00 - val_loss: -753696430358528.0000 - val_accuracy: 0.0000e+00\n",
      "Epoch 276/500\n",
      "55/55 [==============================] - 0s 5ms/step - loss: -701893286297600.0000 - accuracy: 0.0000e+00 - val_loss: -760653337853952.0000 - val_accuracy: 0.0000e+00\n",
      "Epoch 277/500\n",
      "55/55 [==============================] - 0s 5ms/step - loss: -708339159793664.0000 - accuracy: 0.0000e+00 - val_loss: -767499448614912.0000 - val_accuracy: 0.0000e+00\n",
      "Epoch 278/500\n",
      "55/55 [==============================] - 0s 5ms/step - loss: -714773356347392.0000 - accuracy: 0.0000e+00 - val_loss: -774546147770368.0000 - val_accuracy: 0.0000e+00\n",
      "Epoch 279/500\n",
      "55/55 [==============================] - 0s 5ms/step - loss: -721343045697536.0000 - accuracy: 0.0000e+00 - val_loss: -781768001060864.0000 - val_accuracy: 0.0000e+00\n",
      "Epoch 280/500\n",
      "55/55 [==============================] - 0s 5ms/step - loss: -727940920770560.0000 - accuracy: 0.0000e+00 - val_loss: -788781347110912.0000 - val_accuracy: 0.0000e+00\n",
      "Epoch 281/500\n",
      "55/55 [==============================] - 0s 5ms/step - loss: -734494973755392.0000 - accuracy: 0.0000e+00 - val_loss: -796020246052864.0000 - val_accuracy: 0.0000e+00\n",
      "Epoch 282/500\n",
      "55/55 [==============================] - 0s 5ms/step - loss: -741176466472960.0000 - accuracy: 0.0000e+00 - val_loss: -803057080205312.0000 - val_accuracy: 0.0000e+00\n",
      "Epoch 283/500\n",
      "55/55 [==============================] - 0s 5ms/step - loss: -747825075847168.0000 - accuracy: 0.0000e+00 - val_loss: -810372751687680.0000 - val_accuracy: 0.0000e+00\n",
      "Epoch 284/500\n",
      "55/55 [==============================] - 0s 5ms/step - loss: -754545693032448.0000 - accuracy: 0.0000e+00 - val_loss: -817490519130112.0000 - val_accuracy: 0.0000e+00\n",
      "Epoch 285/500\n",
      "55/55 [==============================] - 0s 6ms/step - loss: -761251948920832.0000 - accuracy: 0.0000e+00 - val_loss: -824811156668416.0000 - val_accuracy: 0.0000e+00\n",
      "Epoch 286/500\n",
      "55/55 [==============================] - 0s 5ms/step - loss: -768041486909440.0000 - accuracy: 0.0000e+00 - val_loss: -832189172285440.0000 - val_accuracy: 0.0000e+00\n",
      "Epoch 287/500\n",
      "55/55 [==============================] - 0s 5ms/step - loss: -774933231697920.0000 - accuracy: 0.0000e+00 - val_loss: -839547055243264.0000 - val_accuracy: 0.0000e+00\n",
      "Epoch 288/500\n",
      "55/55 [==============================] - 0s 5ms/step - loss: -781824439615488.0000 - accuracy: 0.0000e+00 - val_loss: -847063919099904.0000 - val_accuracy: 0.0000e+00\n",
      "Epoch 289/500\n",
      "55/55 [==============================] - 0s 5ms/step - loss: -788749940162560.0000 - accuracy: 0.0000e+00 - val_loss: -854645274574848.0000 - val_accuracy: 0.0000e+00\n",
      "Epoch 290/500\n",
      "55/55 [==============================] - 0s 5ms/step - loss: -795671145742336.0000 - accuracy: 0.0000e+00 - val_loss: -862156702613504.0000 - val_accuracy: 0.0000e+00\n",
      "Epoch 291/500\n",
      "55/55 [==============================] - 0s 5ms/step - loss: -802737239359488.0000 - accuracy: 0.0000e+00 - val_loss: -869583237939200.0000 - val_accuracy: 0.0000e+00\n",
      "Epoch 292/500\n",
      "55/55 [==============================] - 0s 5ms/step - loss: -809747095748608.0000 - accuracy: 0.0000e+00 - val_loss: -877321829482496.0000 - val_accuracy: 0.0000e+00\n",
      "Epoch 293/500\n",
      "55/55 [==============================] - 0s 6ms/step - loss: -816816276373504.0000 - accuracy: 0.0000e+00 - val_loss: -884991231787008.0000 - val_accuracy: 0.0000e+00\n",
      "Epoch 294/500\n",
      "55/55 [==============================] - 0s 8ms/step - loss: -823939009871872.0000 - accuracy: 0.0000e+00 - val_loss: -892567285661696.0000 - val_accuracy: 0.0000e+00\n",
      "Epoch 295/500\n",
      "55/55 [==============================] - 0s 7ms/step - loss: -831104693043200.0000 - accuracy: 0.0000e+00 - val_loss: -900475662630912.0000 - val_accuracy: 0.0000e+00\n",
      "Epoch 296/500\n",
      "55/55 [==============================] - 0s 5ms/step - loss: -838352114810880.0000 - accuracy: 0.0000e+00 - val_loss: -908106611556352.0000 - val_accuracy: 0.0000e+00\n",
      "Epoch 297/500\n",
      "55/55 [==============================] - 0s 5ms/step - loss: -845565243949056.0000 - accuracy: 0.0000e+00 - val_loss: -916125114171392.0000 - val_accuracy: 0.0000e+00\n",
      "Epoch 298/500\n",
      "55/55 [==============================] - 0s 5ms/step - loss: -852839710588928.0000 - accuracy: 0.0000e+00 - val_loss: -924016311271424.0000 - val_accuracy: 0.0000e+00\n",
      "Epoch 299/500\n",
      "55/55 [==============================] - 0s 8ms/step - loss: -860167260340224.0000 - accuracy: 0.0000e+00 - val_loss: -931745910226944.0000 - val_accuracy: 0.0000e+00\n",
      "Epoch 300/500\n",
      "55/55 [==============================] - 0s 7ms/step - loss: -867575206510592.0000 - accuracy: 0.0000e+00 - val_loss: -939750991069184.0000 - val_accuracy: 0.0000e+00\n",
      "Epoch 301/500\n",
      "55/55 [==============================] - 0s 7ms/step - loss: -874951947059200.0000 - accuracy: 0.0000e+00 - val_loss: -947671179198464.0000 - val_accuracy: 0.0000e+00\n",
      "Epoch 302/500\n",
      "55/55 [==============================] - 0s 8ms/step - loss: -882337076215808.0000 - accuracy: 0.0000e+00 - val_loss: -955718203080704.0000 - val_accuracy: 0.0000e+00\n",
      "Epoch 303/500\n",
      "55/55 [==============================] - 0s 6ms/step - loss: -889930981048320.0000 - accuracy: 0.0000e+00 - val_loss: -964028427927552.0000 - val_accuracy: 0.0000e+00\n",
      "Epoch 304/500\n",
      "55/55 [==============================] - 0s 6ms/step - loss: -897422477754368.0000 - accuracy: 0.0000e+00 - val_loss: -972218930561024.0000 - val_accuracy: 0.0000e+00\n",
      "Epoch 305/500\n",
      "55/55 [==============================] - 0s 5ms/step - loss: -904986049380352.0000 - accuracy: 0.0000e+00 - val_loss: -980369906073600.0000 - val_accuracy: 0.0000e+00\n",
      "Epoch 306/500\n",
      "55/55 [==============================] - 0s 6ms/step - loss: -912609683439616.0000 - accuracy: 0.0000e+00 - val_loss: -988538195673088.0000 - val_accuracy: 0.0000e+00\n",
      "Epoch 307/500\n",
      "55/55 [==============================] - 1s 13ms/step - loss: -920199561740288.0000 - accuracy: 0.0000e+00 - val_loss: -996766145052672.0000 - val_accuracy: 0.0000e+00\n",
      "Epoch 308/500\n",
      "55/55 [==============================] - 0s 5ms/step - loss: -927852052611072.0000 - accuracy: 0.0000e+00 - val_loss: -1005026038251520.0000 - val_accuracy: 0.0000e+00\n",
      "Epoch 309/500\n",
      "55/55 [==============================] - 0s 6ms/step - loss: -935655941079040.0000 - accuracy: 0.0000e+00 - val_loss: -1013466185859072.0000 - val_accuracy: 0.0000e+00\n",
      "Epoch 310/500\n",
      "55/55 [==============================] - 0s 6ms/step - loss: -943420772188160.0000 - accuracy: 0.0000e+00 - val_loss: -1021876134477824.0000 - val_accuracy: 0.0000e+00\n",
      "Epoch 311/500\n",
      "55/55 [==============================] - 0s 6ms/step - loss: -951217547116544.0000 - accuracy: 0.0000e+00 - val_loss: -1030294740140032.0000 - val_accuracy: 0.0000e+00\n",
      "Epoch 312/500\n",
      "55/55 [==============================] - 0s 6ms/step - loss: -959057271717888.0000 - accuracy: 0.0000e+00 - val_loss: -1038920175321088.0000 - val_accuracy: 0.0000e+00\n",
      "Epoch 313/500\n",
      "55/55 [==============================] - 0s 6ms/step - loss: -967079331102720.0000 - accuracy: 0.0000e+00 - val_loss: -1047378710757376.0000 - val_accuracy: 0.0000e+00\n",
      "Epoch 314/500\n",
      "55/55 [==============================] - 0s 6ms/step - loss: -974981869600768.0000 - accuracy: 0.0000e+00 - val_loss: -1055958646128640.0000 - val_accuracy: 0.0000e+00\n",
      "Epoch 315/500\n",
      "55/55 [==============================] - 0s 5ms/step - loss: -983080567308288.0000 - accuracy: 0.0000e+00 - val_loss: -1064660115652608.0000 - val_accuracy: 0.0000e+00\n",
      "Epoch 316/500\n",
      "55/55 [==============================] - 0s 6ms/step - loss: -991048067186688.0000 - accuracy: 0.0000e+00 - val_loss: -1073231729524736.0000 - val_accuracy: 0.0000e+00\n",
      "Epoch 317/500\n",
      "55/55 [==============================] - 0s 6ms/step - loss: -999116565905408.0000 - accuracy: 0.0000e+00 - val_loss: -1082025272410112.0000 - val_accuracy: 0.0000e+00\n",
      "Epoch 318/500\n",
      "55/55 [==============================] - 0s 7ms/step - loss: -1007211706843136.0000 - accuracy: 0.0000e+00 - val_loss: -1090766336163840.0000 - val_accuracy: 0.0000e+00\n",
      "Epoch 319/500\n",
      "55/55 [==============================] - 0s 6ms/step - loss: -1015316108804096.0000 - accuracy: 0.0000e+00 - val_loss: -1099518607097856.0000 - val_accuracy: 0.0000e+00\n",
      "Epoch 320/500\n"
     ]
    },
    {
     "name": "stdout",
     "output_type": "stream",
     "text": [
      "55/55 [==============================] - 0s 6ms/step - loss: -1023554527166464.0000 - accuracy: 0.0000e+00 - val_loss: -1108584007991296.0000 - val_accuracy: 0.0000e+00\n",
      "Epoch 321/500\n",
      "55/55 [==============================] - 0s 7ms/step - loss: -1031917096927232.0000 - accuracy: 0.0000e+00 - val_loss: -1117427144327168.0000 - val_accuracy: 0.0000e+00\n",
      "Epoch 322/500\n",
      "55/55 [==============================] - 0s 5ms/step - loss: -1040251279638528.0000 - accuracy: 0.0000e+00 - val_loss: -1126533817171968.0000 - val_accuracy: 0.0000e+00\n",
      "Epoch 323/500\n",
      "55/55 [==============================] - 0s 5ms/step - loss: -1048550431522816.0000 - accuracy: 0.0000e+00 - val_loss: -1135483321057280.0000 - val_accuracy: 0.0000e+00\n",
      "Epoch 324/500\n",
      "55/55 [==============================] - 0s 5ms/step - loss: -1056855488987136.0000 - accuracy: 0.0000e+00 - val_loss: -1144383969689600.0000 - val_accuracy: 0.0000e+00\n",
      "Epoch 325/500\n",
      "55/55 [==============================] - 0s 5ms/step - loss: -1065250136784896.0000 - accuracy: 0.0000e+00 - val_loss: -1153551577382912.0000 - val_accuracy: 0.0000e+00\n",
      "Epoch 326/500\n",
      "55/55 [==============================] - 0s 5ms/step - loss: -1073686392078336.0000 - accuracy: 0.0000e+00 - val_loss: -1162777032916992.0000 - val_accuracy: 0.0000e+00\n",
      "Epoch 327/500\n",
      "55/55 [==============================] - 1s 9ms/step - loss: -1082158751940608.0000 - accuracy: 0.0000e+00 - val_loss: -1171848943370240.0000 - val_accuracy: 0.0000e+00\n",
      "Epoch 328/500\n",
      "55/55 [==============================] - 0s 6ms/step - loss: -1090604402475008.0000 - accuracy: 0.0000e+00 - val_loss: -1180985009897472.0000 - val_accuracy: 0.0000e+00\n",
      "Epoch 329/500\n",
      "55/55 [==============================] - 1s 9ms/step - loss: -1099148501712896.0000 - accuracy: 0.0000e+00 - val_loss: -1190119465811968.0000 - val_accuracy: 0.0000e+00\n",
      "Epoch 330/500\n",
      "55/55 [==============================] - 0s 6ms/step - loss: -1107678843633664.0000 - accuracy: 0.0000e+00 - val_loss: -1199532155076608.0000 - val_accuracy: 0.0000e+00\n",
      "Epoch 331/500\n",
      "55/55 [==============================] - 0s 5ms/step - loss: -1116387695132672.0000 - accuracy: 0.0000e+00 - val_loss: -1208933033181184.0000 - val_accuracy: 0.0000e+00\n",
      "Epoch 332/500\n",
      "55/55 [==============================] - 0s 6ms/step - loss: -1125159830290432.0000 - accuracy: 0.0000e+00 - val_loss: -1218178755592192.0000 - val_accuracy: 0.0000e+00\n",
      "Epoch 333/500\n",
      "55/55 [==============================] - 0s 6ms/step - loss: -1133809223335936.0000 - accuracy: 0.0000e+00 - val_loss: -1227679223250944.0000 - val_accuracy: 0.0000e+00\n",
      "Epoch 334/500\n",
      "55/55 [==============================] - 0s 6ms/step - loss: -1142666788077568.0000 - accuracy: 0.0000e+00 - val_loss: -1237449334325248.0000 - val_accuracy: 0.0000e+00\n",
      "Epoch 335/500\n",
      "55/55 [==============================] - 0s 8ms/step - loss: -1151551062147072.0000 - accuracy: 0.0000e+00 - val_loss: -1246739482804224.0000 - val_accuracy: 0.0000e+00\n",
      "Epoch 336/500\n",
      "55/55 [==============================] - 0s 5ms/step - loss: -1160288099368960.0000 - accuracy: 0.0000e+00 - val_loss: -1256356451450880.0000 - val_accuracy: 0.0000e+00\n",
      "Epoch 337/500\n",
      "55/55 [==============================] - 0s 5ms/step - loss: -1169190627049472.0000 - accuracy: 0.0000e+00 - val_loss: -1265855174279168.0000 - val_accuracy: 0.0000e+00\n",
      "Epoch 338/500\n",
      "55/55 [==============================] - 0s 5ms/step - loss: -1178249786818560.0000 - accuracy: 0.0000e+00 - val_loss: -1275825001332736.0000 - val_accuracy: 0.0000e+00\n",
      "Epoch 339/500\n",
      "55/55 [==============================] - 0s 5ms/step - loss: -1187250427658240.0000 - accuracy: 0.0000e+00 - val_loss: -1285334595796992.0000 - val_accuracy: 0.0000e+00\n",
      "Epoch 340/500\n",
      "55/55 [==============================] - 0s 5ms/step - loss: -1196266100883456.0000 - accuracy: 0.0000e+00 - val_loss: -1295298919923712.0000 - val_accuracy: 0.0000e+00\n",
      "Epoch 341/500\n",
      "55/55 [==============================] - 0s 5ms/step - loss: -1205373176381440.0000 - accuracy: 0.0000e+00 - val_loss: -1305141240135680.0000 - val_accuracy: 0.0000e+00\n",
      "Epoch 342/500\n",
      "55/55 [==============================] - 0s 6ms/step - loss: -1214438644383744.0000 - accuracy: 0.0000e+00 - val_loss: -1314949737480192.0000 - val_accuracy: 0.0000e+00\n",
      "Epoch 343/500\n",
      "55/55 [==============================] - 0s 5ms/step - loss: -1223558873219072.0000 - accuracy: 0.0000e+00 - val_loss: -1324776488435712.0000 - val_accuracy: 0.0000e+00\n",
      "Epoch 344/500\n",
      "55/55 [==============================] - 0s 5ms/step - loss: -1232720575332352.0000 - accuracy: 0.0000e+00 - val_loss: -1334485530443776.0000 - val_accuracy: 0.0000e+00\n",
      "Epoch 345/500\n",
      "55/55 [==============================] - 0s 5ms/step - loss: -1241874224381952.0000 - accuracy: 0.0000e+00 - val_loss: -1344490254106624.0000 - val_accuracy: 0.0000e+00\n",
      "Epoch 346/500\n",
      "55/55 [==============================] - 0s 6ms/step - loss: -1251274968268800.0000 - accuracy: 0.0000e+00 - val_loss: -1354756031250432.0000 - val_accuracy: 0.0000e+00\n",
      "Epoch 347/500\n",
      "55/55 [==============================] - 0s 6ms/step - loss: -1260583638794240.0000 - accuracy: 0.0000e+00 - val_loss: -1364902757269504.0000 - val_accuracy: 0.0000e+00\n",
      "Epoch 348/500\n",
      "55/55 [==============================] - 0s 8ms/step - loss: -1269939688177664.0000 - accuracy: 0.0000e+00 - val_loss: -1374855538671616.0000 - val_accuracy: 0.0000e+00\n",
      "Epoch 349/500\n",
      "55/55 [==============================] - 0s 5ms/step - loss: -1279375731326976.0000 - accuracy: 0.0000e+00 - val_loss: -1385087492947968.0000 - val_accuracy: 0.0000e+00\n",
      "Epoch 350/500\n",
      "55/55 [==============================] - 0s 5ms/step - loss: -1288801305493504.0000 - accuracy: 0.0000e+00 - val_loss: -1395327231852544.0000 - val_accuracy: 0.0000e+00\n",
      "Epoch 351/500\n",
      "55/55 [==============================] - 0s 5ms/step - loss: -1298260299874304.0000 - accuracy: 0.0000e+00 - val_loss: -1405561199394816.0000 - val_accuracy: 0.0000e+00\n",
      "Epoch 352/500\n",
      "55/55 [==============================] - 0s 5ms/step - loss: -1307741977051136.0000 - accuracy: 0.0000e+00 - val_loss: -1415835566473216.0000 - val_accuracy: 0.0000e+00\n",
      "Epoch 353/500\n",
      "55/55 [==============================] - 0s 5ms/step - loss: -1317278683496448.0000 - accuracy: 0.0000e+00 - val_loss: -1426010880868352.0000 - val_accuracy: 0.0000e+00\n",
      "Epoch 354/500\n",
      "55/55 [==============================] - 0s 6ms/step - loss: -1326776332582912.0000 - accuracy: 0.0000e+00 - val_loss: -1436464562831360.0000 - val_accuracy: 0.0000e+00\n",
      "Epoch 355/500\n",
      "55/55 [==============================] - 0s 5ms/step - loss: -1336522821337088.0000 - accuracy: 0.0000e+00 - val_loss: -1446756646649856.0000 - val_accuracy: 0.0000e+00\n",
      "Epoch 356/500\n",
      "55/55 [==============================] - 0s 5ms/step - loss: -1346203946057728.0000 - accuracy: 0.0000e+00 - val_loss: -1457302938845184.0000 - val_accuracy: 0.0000e+00\n",
      "Epoch 357/500\n",
      "55/55 [==============================] - 0s 5ms/step - loss: -1356031099666432.0000 - accuracy: 0.0000e+00 - val_loss: -1467922245484544.0000 - val_accuracy: 0.0000e+00\n",
      "Epoch 358/500\n",
      "55/55 [==============================] - 0s 5ms/step - loss: -1365827785850880.0000 - accuracy: 0.0000e+00 - val_loss: -1478397536501760.0000 - val_accuracy: 0.0000e+00\n",
      "Epoch 359/500\n",
      "55/55 [==============================] - 0s 5ms/step - loss: -1375519245336576.0000 - accuracy: 0.0000e+00 - val_loss: -1489311182618624.0000 - val_accuracy: 0.0000e+00\n",
      "Epoch 360/500\n",
      "55/55 [==============================] - 0s 7ms/step - loss: -1385552288940032.0000 - accuracy: 0.0000e+00 - val_loss: -1499839355420672.0000 - val_accuracy: 0.0000e+00\n",
      "Epoch 361/500\n",
      "55/55 [==============================] - 0s 6ms/step - loss: -1395657541681152.0000 - accuracy: 0.0000e+00 - val_loss: -1510693140430848.0000 - val_accuracy: 0.0000e+00\n",
      "Epoch 362/500\n",
      "55/55 [==============================] - 0s 6ms/step - loss: -1405594619609088.0000 - accuracy: 0.0000e+00 - val_loss: -1521670674186240.0000 - val_accuracy: 0.0000e+00\n",
      "Epoch 363/500\n",
      "55/55 [==============================] - 0s 7ms/step - loss: -1415800804081664.0000 - accuracy: 0.0000e+00 - val_loss: -1532655321481216.0000 - val_accuracy: 0.0000e+00\n",
      "Epoch 364/500\n",
      "55/55 [==============================] - 0s 5ms/step - loss: -1425880689672192.0000 - accuracy: 0.0000e+00 - val_loss: -1543355292975104.0000 - val_accuracy: 0.0000e+00\n"
     ]
    },
    {
     "name": "stdout",
     "output_type": "stream",
     "text": [
      "Epoch 365/500\n",
      "55/55 [==============================] - 0s 5ms/step - loss: -1435912122662912.0000 - accuracy: 0.0000e+00 - val_loss: -1554274173583360.0000 - val_accuracy: 0.0000e+00\n",
      "Epoch 366/500\n",
      "55/55 [==============================] - 0s 6ms/step - loss: -1446043547860992.0000 - accuracy: 0.0000e+00 - val_loss: -1565309555179520.0000 - val_accuracy: 0.0000e+00\n",
      "Epoch 367/500\n",
      "55/55 [==============================] - 0s 5ms/step - loss: -1456259396009984.0000 - accuracy: 0.0000e+00 - val_loss: -1576303329280000.0000 - val_accuracy: 0.0000e+00\n",
      "Epoch 368/500\n",
      "55/55 [==============================] - 0s 8ms/step - loss: -1466555506360320.0000 - accuracy: 0.0000e+00 - val_loss: -1587559096385536.0000 - val_accuracy: 0.0000e+00\n",
      "Epoch 369/500\n",
      "55/55 [==============================] - 0s 6ms/step - loss: -1476989995188224.0000 - accuracy: 0.0000e+00 - val_loss: -1598550991437824.0000 - val_accuracy: 0.0000e+00\n",
      "Epoch 370/500\n",
      "55/55 [==============================] - 0s 6ms/step - loss: -1487192287346688.0000 - accuracy: 0.0000e+00 - val_loss: -1609808771809280.0000 - val_accuracy: 0.0000e+00\n",
      "Epoch 371/500\n",
      "55/55 [==============================] - 0s 5ms/step - loss: -1497641137471488.0000 - accuracy: 0.0000e+00 - val_loss: -1620789124136960.0000 - val_accuracy: 0.0000e+00\n",
      "Epoch 372/500\n",
      "55/55 [==============================] - 0s 5ms/step - loss: -1508268094521344.0000 - accuracy: 0.0000e+00 - val_loss: -1632521229959168.0000 - val_accuracy: 0.0000e+00\n",
      "Epoch 373/500\n",
      "55/55 [==============================] - 0s 6ms/step - loss: -1518692382801920.0000 - accuracy: 0.0000e+00 - val_loss: -1643807061835776.0000 - val_accuracy: 0.0000e+00\n",
      "Epoch 374/500\n",
      "55/55 [==============================] - 0s 5ms/step - loss: -1529229682409472.0000 - accuracy: 0.0000e+00 - val_loss: -1655122555830272.0000 - val_accuracy: 0.0000e+00\n",
      "Epoch 375/500\n",
      "55/55 [==============================] - 0s 6ms/step - loss: -1539721616424960.0000 - accuracy: 0.0000e+00 - val_loss: -1666498447802368.0000 - val_accuracy: 0.0000e+00\n",
      "Epoch 376/500\n",
      "55/55 [==============================] - 0s 6ms/step - loss: -1550288712368128.0000 - accuracy: 0.0000e+00 - val_loss: -1677962923474944.0000 - val_accuracy: 0.0000e+00\n",
      "Epoch 377/500\n",
      "55/55 [==============================] - 0s 5ms/step - loss: -1561005058424832.0000 - accuracy: 0.0000e+00 - val_loss: -1689530478362624.0000 - val_accuracy: 0.0000e+00\n",
      "Epoch 378/500\n",
      "55/55 [==============================] - 0s 6ms/step - loss: -1571718183256064.0000 - accuracy: 0.0000e+00 - val_loss: -1701090114404352.0000 - val_accuracy: 0.0000e+00\n",
      "Epoch 379/500\n",
      "55/55 [==============================] - 0s 5ms/step - loss: -1582454393536512.0000 - accuracy: 0.0000e+00 - val_loss: -1712639415681024.0000 - val_accuracy: 0.0000e+00\n",
      "Epoch 380/500\n",
      "55/55 [==============================] - 0s 5ms/step - loss: -1593354483662848.0000 - accuracy: 0.0000e+00 - val_loss: -1724463460646912.0000 - val_accuracy: 0.0000e+00\n",
      "Epoch 381/500\n",
      "55/55 [==============================] - 0s 5ms/step - loss: -1604191088803840.0000 - accuracy: 0.0000e+00 - val_loss: -1736357567266816.0000 - val_accuracy: 0.0000e+00\n",
      "Epoch 382/500\n",
      "55/55 [==============================] - 0s 5ms/step - loss: -1615115606556672.0000 - accuracy: 0.0000e+00 - val_loss: -1748144165486592.0000 - val_accuracy: 0.0000e+00\n",
      "Epoch 383/500\n",
      "55/55 [==============================] - 0s 5ms/step - loss: -1626111662358528.0000 - accuracy: 0.0000e+00 - val_loss: -1760055720411136.0000 - val_accuracy: 0.0000e+00\n",
      "Epoch 384/500\n",
      "55/55 [==============================] - 0s 5ms/step - loss: -1637144762253312.0000 - accuracy: 0.0000e+00 - val_loss: -1771688907767808.0000 - val_accuracy: 0.0000e+00\n",
      "Epoch 385/500\n",
      "55/55 [==============================] - 0s 5ms/step - loss: -1648229938626560.0000 - accuracy: 0.0000e+00 - val_loss: -1783715621502976.0000 - val_accuracy: 0.0000e+00\n",
      "Epoch 386/500\n",
      "55/55 [==============================] - 0s 5ms/step - loss: -1659355246100480.0000 - accuracy: 0.0000e+00 - val_loss: -1795843266969600.0000 - val_accuracy: 0.0000e+00\n",
      "Epoch 387/500\n",
      "55/55 [==============================] - 0s 5ms/step - loss: -1670620140011520.0000 - accuracy: 0.0000e+00 - val_loss: -1807828104773632.0000 - val_accuracy: 0.0000e+00\n",
      "Epoch 388/500\n",
      "55/55 [==============================] - 0s 5ms/step - loss: -1681930667950080.0000 - accuracy: 0.0000e+00 - val_loss: -1820282570407936.0000 - val_accuracy: 0.0000e+00\n",
      "Epoch 389/500\n",
      "55/55 [==============================] - 0s 5ms/step - loss: -1693171268452352.0000 - accuracy: 0.0000e+00 - val_loss: -1832378406273024.0000 - val_accuracy: 0.0000e+00\n",
      "Epoch 390/500\n",
      "55/55 [==============================] - 0s 6ms/step - loss: -1704465287610368.0000 - accuracy: 0.0000e+00 - val_loss: -1844599198842880.0000 - val_accuracy: 0.0000e+00\n",
      "Epoch 391/500\n",
      "55/55 [==============================] - 0s 5ms/step - loss: -1715833663389696.0000 - accuracy: 0.0000e+00 - val_loss: -1856850995707904.0000 - val_accuracy: 0.0000e+00\n",
      "Epoch 392/500\n",
      "55/55 [==============================] - 0s 5ms/step - loss: -1727246062583808.0000 - accuracy: 0.0000e+00 - val_loss: -1869196476547072.0000 - val_accuracy: 0.0000e+00\n",
      "Epoch 393/500\n",
      "55/55 [==============================] - 0s 5ms/step - loss: -1738615646322688.0000 - accuracy: 0.0000e+00 - val_loss: -1881537528201216.0000 - val_accuracy: 0.0000e+00\n",
      "Epoch 394/500\n",
      "55/55 [==============================] - 0s 5ms/step - loss: -1750007241768960.0000 - accuracy: 0.0000e+00 - val_loss: -1893927569326080.0000 - val_accuracy: 0.0000e+00\n",
      "Epoch 395/500\n",
      "55/55 [==============================] - 0s 5ms/step - loss: -1761542181748736.0000 - accuracy: 0.0000e+00 - val_loss: -1906246072401920.0000 - val_accuracy: 0.0000e+00\n",
      "Epoch 396/500\n",
      "55/55 [==============================] - 0s 5ms/step - loss: -1773177516589056.0000 - accuracy: 0.0000e+00 - val_loss: -1918979442475008.0000 - val_accuracy: 0.0000e+00\n",
      "Epoch 397/500\n",
      "55/55 [==============================] - 0s 5ms/step - loss: -1784848150691840.0000 - accuracy: 0.0000e+00 - val_loss: -1931562488692736.0000 - val_accuracy: 0.0000e+00\n",
      "Epoch 398/500\n",
      "55/55 [==============================] - 0s 5ms/step - loss: -1796585356787712.0000 - accuracy: 0.0000e+00 - val_loss: -1944271162703872.0000 - val_accuracy: 0.0000e+00\n",
      "Epoch 399/500\n",
      "55/55 [==============================] - 0s 5ms/step - loss: -1808442687750144.0000 - accuracy: 0.0000e+00 - val_loss: -1956959704055808.0000 - val_accuracy: 0.0000e+00\n",
      "Epoch 400/500\n",
      "55/55 [==============================] - 0s 5ms/step - loss: -1820153184518144.0000 - accuracy: 0.0000e+00 - val_loss: -1969800179875840.0000 - val_accuracy: 0.0000e+00\n",
      "Epoch 401/500\n",
      "55/55 [==============================] - 0s 5ms/step - loss: -1832048096444416.0000 - accuracy: 0.0000e+00 - val_loss: -1982534892126208.0000 - val_accuracy: 0.0000e+00\n",
      "Epoch 402/500\n",
      "55/55 [==============================] - 0s 6ms/step - loss: -1843932405170176.0000 - accuracy: 0.0000e+00 - val_loss: -1995413619998720.0000 - val_accuracy: 0.0000e+00\n",
      "Epoch 403/500\n",
      "55/55 [==============================] - 0s 5ms/step - loss: -1855857918738432.0000 - accuracy: 0.0000e+00 - val_loss: -2008235976425472.0000 - val_accuracy: 0.0000e+00\n",
      "Epoch 404/500\n",
      "55/55 [==============================] - 0s 5ms/step - loss: -1867819134222336.0000 - accuracy: 0.0000e+00 - val_loss: -2021363678183424.0000 - val_accuracy: 0.0000e+00\n",
      "Epoch 405/500\n",
      "55/55 [==============================] - 0s 5ms/step - loss: -1879840747683840.0000 - accuracy: 0.0000e+00 - val_loss: -2034098927304704.0000 - val_accuracy: 0.0000e+00\n",
      "Epoch 406/500\n",
      "55/55 [==============================] - 0s 5ms/step - loss: -1891876454006784.0000 - accuracy: 0.0000e+00 - val_loss: -2047068252143616.0000 - val_accuracy: 0.0000e+00\n",
      "Epoch 407/500\n",
      "55/55 [==============================] - 0s 5ms/step - loss: -1903988664434688.0000 - accuracy: 0.0000e+00 - val_loss: -2060098243395584.0000 - val_accuracy: 0.0000e+00\n",
      "Epoch 408/500\n",
      "55/55 [==============================] - 0s 5ms/step - loss: -1916128255279104.0000 - accuracy: 0.0000e+00 - val_loss: -2073318421168128.0000 - val_accuracy: 0.0000e+00\n",
      "Epoch 409/500\n",
      "55/55 [==============================] - 0s 6ms/step - loss: -1928278449324032.0000 - accuracy: 0.0000e+00 - val_loss: -2086674024628224.0000 - val_accuracy: 0.0000e+00\n"
     ]
    },
    {
     "name": "stdout",
     "output_type": "stream",
     "text": [
      "Epoch 410/500\n",
      "55/55 [==============================] - 0s 5ms/step - loss: -1940794252460032.0000 - accuracy: 0.0000e+00 - val_loss: -2100172838404096.0000 - val_accuracy: 0.0000e+00\n",
      "Epoch 411/500\n",
      "55/55 [==============================] - 0s 5ms/step - loss: -1953124029825024.0000 - accuracy: 0.0000e+00 - val_loss: -2113379862839296.0000 - val_accuracy: 0.0000e+00\n",
      "Epoch 412/500\n",
      "55/55 [==============================] - 0s 5ms/step - loss: -1965481187606528.0000 - accuracy: 0.0000e+00 - val_loss: -2126856530690048.0000 - val_accuracy: 0.0000e+00\n",
      "Epoch 413/500\n",
      "55/55 [==============================] - 0s 5ms/step - loss: -1977947061747712.0000 - accuracy: 0.0000e+00 - val_loss: -2140521506013184.0000 - val_accuracy: 0.0000e+00\n",
      "Epoch 414/500\n",
      "55/55 [==============================] - 0s 5ms/step - loss: -1990472796995584.0000 - accuracy: 0.0000e+00 - val_loss: -2153641825796096.0000 - val_accuracy: 0.0000e+00\n",
      "Epoch 415/500\n",
      "55/55 [==============================] - 0s 6ms/step - loss: -2002916659429376.0000 - accuracy: 0.0000e+00 - val_loss: -2167228149530624.0000 - val_accuracy: 0.0000e+00\n",
      "Epoch 416/500\n",
      "55/55 [==============================] - 0s 6ms/step - loss: -2015504537485312.0000 - accuracy: 0.0000e+00 - val_loss: -2180816218095616.0000 - val_accuracy: 0.0000e+00\n",
      "Epoch 417/500\n",
      "55/55 [==============================] - 0s 6ms/step - loss: -2028200460812288.0000 - accuracy: 0.0000e+00 - val_loss: -2194071292477440.0000 - val_accuracy: 0.0000e+00\n",
      "Epoch 418/500\n",
      "55/55 [==============================] - 1s 11ms/step - loss: -2040726196060160.0000 - accuracy: 0.0000e+00 - val_loss: -2208102816415744.0000 - val_accuracy: 0.0000e+00\n",
      "Epoch 419/500\n",
      "55/55 [==============================] - 0s 7ms/step - loss: -2053506139684864.0000 - accuracy: 0.0000e+00 - val_loss: -2221718668050432.0000 - val_accuracy: 0.0000e+00\n",
      "Epoch 420/500\n",
      "55/55 [==============================] - 0s 5ms/step - loss: -2066294136373248.0000 - accuracy: 0.0000e+00 - val_loss: -2235728180281344.0000 - val_accuracy: 0.0000e+00\n",
      "Epoch 421/500\n",
      "55/55 [==============================] - 0s 7ms/step - loss: -2079259434680320.0000 - accuracy: 0.0000e+00 - val_loss: -2249762925445120.0000 - val_accuracy: 0.0000e+00\n",
      "Epoch 422/500\n",
      "55/55 [==============================] - 0s 6ms/step - loss: -2092315329953792.0000 - accuracy: 0.0000e+00 - val_loss: -2263758613250048.0000 - val_accuracy: 0.0000e+00\n",
      "Epoch 423/500\n",
      "55/55 [==============================] - 0s 4ms/step - loss: -2105290157719552.0000 - accuracy: 0.0000e+00 - val_loss: -2278175207849984.0000 - val_accuracy: 0.0000e+00\n",
      "Epoch 424/500\n",
      "55/55 [==============================] - 0s 6ms/step - loss: -2118468862214144.0000 - accuracy: 0.0000e+00 - val_loss: -2292221629956096.0000 - val_accuracy: 0.0000e+00\n",
      "Epoch 425/500\n",
      "55/55 [==============================] - 0s 5ms/step - loss: -2131596966625280.0000 - accuracy: 0.0000e+00 - val_loss: -2306266709884928.0000 - val_accuracy: 0.0000e+00\n",
      "Epoch 426/500\n",
      "55/55 [==============================] - 0s 5ms/step - loss: -2144831505694720.0000 - accuracy: 0.0000e+00 - val_loss: -2320673909243904.0000 - val_accuracy: 0.0000e+00\n",
      "Epoch 427/500\n",
      "55/55 [==============================] - 0s 5ms/step - loss: -2158022424002560.0000 - accuracy: 0.0000e+00 - val_loss: -2334898304057344.0000 - val_accuracy: 0.0000e+00\n",
      "Epoch 428/500\n",
      "55/55 [==============================] - 0s 5ms/step - loss: -2171357492150272.0000 - accuracy: 0.0000e+00 - val_loss: -2349166185414656.0000 - val_accuracy: 0.0000e+00\n",
      "Epoch 429/500\n",
      "55/55 [==============================] - 0s 5ms/step - loss: -2184571898560512.0000 - accuracy: 0.0000e+00 - val_loss: -2363661968474112.0000 - val_accuracy: 0.0000e+00\n",
      "Epoch 430/500\n",
      "55/55 [==============================] - 0s 5ms/step - loss: -2197906832490496.0000 - accuracy: 0.0000e+00 - val_loss: -2377984342228992.0000 - val_accuracy: 0.0000e+00\n",
      "Epoch 431/500\n",
      "55/55 [==============================] - 0s 5ms/step - loss: -2211410612322304.0000 - accuracy: 0.0000e+00 - val_loss: -2392341881028608.0000 - val_accuracy: 0.0000e+00\n",
      "Epoch 432/500\n",
      "55/55 [==============================] - 0s 8ms/step - loss: -2224806078447616.0000 - accuracy: 0.0000e+00 - val_loss: -2406932958674944.0000 - val_accuracy: 0.0000e+00\n",
      "Epoch 433/500\n",
      "55/55 [==============================] - 0s 7ms/step - loss: -2238323414269952.0000 - accuracy: 0.0000e+00 - val_loss: -2421506051145728.0000 - val_accuracy: 0.0000e+00\n",
      "Epoch 434/500\n",
      "55/55 [==============================] - 0s 5ms/step - loss: -2251801155862528.0000 - accuracy: 0.0000e+00 - val_loss: -2436301408174080.0000 - val_accuracy: 0.0000e+00\n",
      "Epoch 435/500\n",
      "55/55 [==============================] - 0s 5ms/step - loss: -2265444656349184.0000 - accuracy: 0.0000e+00 - val_loss: -2450901075755008.0000 - val_accuracy: 0.0000e+00\n",
      "Epoch 436/500\n",
      "55/55 [==============================] - 0s 5ms/step - loss: -2279105873575936.0000 - accuracy: 0.0000e+00 - val_loss: -2465752267358208.0000 - val_accuracy: 0.0000e+00\n",
      "Epoch 437/500\n",
      "55/55 [==============================] - 0s 6ms/step - loss: -2292772727947264.0000 - accuracy: 0.0000e+00 - val_loss: -2480058266550272.0000 - val_accuracy: 0.0000e+00\n",
      "Epoch 438/500\n",
      "55/55 [==============================] - 0s 6ms/step - loss: -2306374352502784.0000 - accuracy: 0.0000e+00 - val_loss: -2495203126542336.0000 - val_accuracy: 0.0000e+00\n",
      "Epoch 439/500\n",
      "55/55 [==============================] - 0s 5ms/step - loss: -2320246559997952.0000 - accuracy: 0.0000e+00 - val_loss: -2510077403594752.0000 - val_accuracy: 0.0000e+00\n",
      "Epoch 440/500\n",
      "55/55 [==============================] - 0s 5ms/step - loss: -2333995018747904.0000 - accuracy: 0.0000e+00 - val_loss: -2524735858540544.0000 - val_accuracy: 0.0000e+00\n",
      "Epoch 441/500\n",
      "55/55 [==============================] - 0s 5ms/step - loss: -2347720660484096.0000 - accuracy: 0.0000e+00 - val_loss: -2539675096973312.0000 - val_accuracy: 0.0000e+00\n",
      "Epoch 442/500\n",
      "55/55 [==============================] - 0s 5ms/step - loss: -2361690578485248.0000 - accuracy: 0.0000e+00 - val_loss: -2554917399035904.0000 - val_accuracy: 0.0000e+00\n",
      "Epoch 443/500\n",
      "55/55 [==============================] - 0s 5ms/step - loss: -2375646806278144.0000 - accuracy: 0.0000e+00 - val_loss: -2570065480253440.0000 - val_accuracy: 0.0000e+00\n",
      "Epoch 444/500\n",
      "55/55 [==============================] - 0s 5ms/step - loss: -2389666384838656.0000 - accuracy: 0.0000e+00 - val_loss: -2585423209562112.0000 - val_accuracy: 0.0000e+00\n",
      "Epoch 445/500\n",
      "55/55 [==============================] - 0s 5ms/step - loss: -2403808369967104.0000 - accuracy: 0.0000e+00 - val_loss: -2600311176822784.0000 - val_accuracy: 0.0000e+00\n",
      "Epoch 446/500\n",
      "55/55 [==============================] - 0s 5ms/step - loss: -2417993036333056.0000 - accuracy: 0.0000e+00 - val_loss: -2616151553081344.0000 - val_accuracy: 0.0000e+00\n",
      "Epoch 447/500\n",
      "55/55 [==============================] - 0s 5ms/step - loss: -2432211525566464.0000 - accuracy: 0.0000e+00 - val_loss: -2630938857046016.0000 - val_accuracy: 0.0000e+00\n",
      "Epoch 448/500\n",
      "55/55 [==============================] - 0s 5ms/step - loss: -2446436188815360.0000 - accuracy: 0.0000e+00 - val_loss: -2646304639418368.0000 - val_accuracy: 0.0000e+00\n",
      "Epoch 449/500\n",
      "55/55 [==============================] - 0s 6ms/step - loss: -2460797217275904.0000 - accuracy: 0.0000e+00 - val_loss: -2662199776509952.0000 - val_accuracy: 0.0000e+00\n",
      "Epoch 450/500\n",
      "55/55 [==============================] - 0s 5ms/step - loss: -2475165225058304.0000 - accuracy: 0.0000e+00 - val_loss: -2677620319715328.0000 - val_accuracy: 0.0000e+00\n",
      "Epoch 451/500\n",
      "55/55 [==============================] - 0s 5ms/step - loss: -2489581282787328.0000 - accuracy: 0.0000e+00 - val_loss: -2692946910511104.0000 - val_accuracy: 0.0000e+00\n",
      "Epoch 452/500\n",
      "55/55 [==============================] - 0s 5ms/step - loss: -2503933184442368.0000 - accuracy: 0.0000e+00 - val_loss: -2708607435014144.0000 - val_accuracy: 0.0000e+00\n",
      "Epoch 453/500\n",
      "55/55 [==============================] - 0s 5ms/step - loss: -2518467353772032.0000 - accuracy: 0.0000e+00 - val_loss: -2724289434353664.0000 - val_accuracy: 0.0000e+00\n",
      "Epoch 454/500\n",
      "55/55 [==============================] - 1s 10ms/step - loss: -2532865426325504.0000 - accuracy: 0.0000e+00 - val_loss: -2740183229267968.0000 - val_accuracy: 0.0000e+00\n"
     ]
    },
    {
     "name": "stdout",
     "output_type": "stream",
     "text": [
      "Epoch 455/500\n",
      "55/55 [==============================] - 0s 5ms/step - loss: -2547567904686080.0000 - accuracy: 0.0000e+00 - val_loss: -2755862812688384.0000 - val_accuracy: 0.0000e+00\n",
      "Epoch 456/500\n",
      "55/55 [==============================] - 0s 5ms/step - loss: -2562138849673216.0000 - accuracy: 0.0000e+00 - val_loss: -2771449249005568.0000 - val_accuracy: 0.0000e+00\n",
      "Epoch 457/500\n",
      "55/55 [==============================] - 0s 5ms/step - loss: -2576763481751552.0000 - accuracy: 0.0000e+00 - val_loss: -2787487999066112.0000 - val_accuracy: 0.0000e+00\n",
      "Epoch 458/500\n",
      "55/55 [==============================] - 0s 5ms/step - loss: -2591517499719680.0000 - accuracy: 0.0000e+00 - val_loss: -2803313611374592.0000 - val_accuracy: 0.0000e+00\n",
      "Epoch 459/500\n",
      "55/55 [==============================] - 0s 5ms/step - loss: -2606259974963200.0000 - accuracy: 0.0000e+00 - val_loss: -2819425912750080.0000 - val_accuracy: 0.0000e+00\n",
      "Epoch 460/500\n",
      "55/55 [==============================] - 0s 5ms/step - loss: -2621165122093056.0000 - accuracy: 0.0000e+00 - val_loss: -2835363999514624.0000 - val_accuracy: 0.0000e+00\n",
      "Epoch 461/500\n",
      "55/55 [==============================] - 0s 5ms/step - loss: -2636140062441472.0000 - accuracy: 0.0000e+00 - val_loss: -2851540993835008.0000 - val_accuracy: 0.0000e+00\n",
      "Epoch 462/500\n",
      "55/55 [==============================] - 0s 5ms/step - loss: -2651326529929216.0000 - accuracy: 0.0000e+00 - val_loss: -2868255664373760.0000 - val_accuracy: 0.0000e+00\n",
      "Epoch 463/500\n",
      "55/55 [==============================] - 0s 5ms/step - loss: -2666522929528832.0000 - accuracy: 0.0000e+00 - val_loss: -2884148653981696.0000 - val_accuracy: 0.0000e+00\n",
      "Epoch 464/500\n",
      "55/55 [==============================] - 0s 4ms/step - loss: -2681567663095808.0000 - accuracy: 0.0000e+00 - val_loss: -2900320279592960.0000 - val_accuracy: 0.0000e+00\n",
      "Epoch 465/500\n",
      "55/55 [==============================] - 0s 5ms/step - loss: -2696889958924288.0000 - accuracy: 0.0000e+00 - val_loss: -2917226076176384.0000 - val_accuracy: 0.0000e+00\n",
      "Epoch 466/500\n",
      "55/55 [==============================] - 0s 5ms/step - loss: -2712478005854208.0000 - accuracy: 0.0000e+00 - val_loss: -2933810823954432.0000 - val_accuracy: 0.0000e+00\n",
      "Epoch 467/500\n",
      "47/55 [========================>.....] - ETA: 0s - loss: -2711885031931904.0000 - accuracy: 0.0000e+00"
     ]
    }
   ],
   "source": [
    "model_history = model.fit(X_train, y_train, validation_data = (X_test, y_test), epochs = 500)"
   ]
  },
  {
   "cell_type": "code",
   "execution_count": null,
   "id": "3646c203",
   "metadata": {},
   "outputs": [],
   "source": [
    "# Getting predictions for the test set\n",
    "prediction_nn = model.predict_classes(X_test)\n",
    "# Getting accuracy score"
   ]
  },
  {
   "cell_type": "code",
   "execution_count": null,
   "id": "6f13c10c",
   "metadata": {},
   "outputs": [],
   "source": []
  },
  {
   "cell_type": "markdown",
   "id": "58d57bcf",
   "metadata": {},
   "source": [
    "#### Gradient Boosting \n",
    "#### Random Forest"
   ]
  },
  {
   "cell_type": "code",
   "execution_count": null,
   "id": "a1333bb4",
   "metadata": {},
   "outputs": [],
   "source": [
    "from sklearn.ensemble import AdaBoostRegressor,GradientBoostingRegressor,RandomForestRegressor\n",
    "from sklearn.neighbors import KNeighborsRegressor\n",
    "from xgboost import XGBRegressor\n",
    "from sklearn.metrics import r2_score,mean_absolute_error,mean_squared_error"
   ]
  },
  {
   "cell_type": "code",
   "execution_count": null,
   "id": "4b7ebdaa",
   "metadata": {},
   "outputs": [],
   "source": [
    "#this function used to evalute the models with features and terget.\n",
    "def models_score(models, x_train, x_test, y_train, y_test):    \n",
    "    scores = {}\n",
    "    for name, model in models.items():\n",
    "        model.fit(x_train, y_train)\n",
    "        y_pred=model.predict(x_test) \n",
    "        scores[name] =r2_score(y_test,y_pred)\n",
    "        #printing the model name and accuracy !!!!!\n",
    "        print(\"Model name: \",model)\n",
    "        print(\"R2 score :--->>\",r2_score(y_test,y_pred))\n",
    "        print(\"MSE\",mean_squared_error(y_test,y_pred))\n",
    "        print(\"MAE\",mean_absolute_error(y_test,y_pred))\n",
    "        print(\"\\n<<<<------------------------------------------------------------->>>>\\n\")\n",
    "           \n",
    "   \n",
    "    model_scores = pd.DataFrame(scores, index=['score']).transpose()\n",
    "    model_scores = model_scores.sort_values('score',ascending=False)\n",
    "    return model_scores"
   ]
  },
  {
   "cell_type": "code",
   "execution_count": null,
   "id": "4956da73",
   "metadata": {},
   "outputs": [],
   "source": [
    "#initialize the models \n",
    "models = {\"GradiantBoost\":GradientBoostingRegressor(random_state=22, n_estimators = 142),\n",
    "         \"RandomForest\":RandomForestRegressor(random_state=150)}"
   ]
  },
  {
   "cell_type": "code",
   "execution_count": null,
   "id": "4defcbdb",
   "metadata": {},
   "outputs": [],
   "source": []
  },
  {
   "cell_type": "code",
   "execution_count": null,
   "id": "d2e2a768",
   "metadata": {},
   "outputs": [],
   "source": [
    "#Calling the function\n",
    "model_scores = models_score(models, X_train, X_test, y_train, y_test)"
   ]
  },
  {
   "cell_type": "code",
   "execution_count": null,
   "id": "95fb1301",
   "metadata": {},
   "outputs": [],
   "source": [
    "#printing the model score\n",
    "model_scores"
   ]
  },
  {
   "cell_type": "markdown",
   "id": "34f551aa",
   "metadata": {},
   "source": [
    "we got good accuracy on Gradient Boosting and Random Forest than Linear Regression\n",
    "\n",
    "#### Parameter tuning\n",
    "lets do some parameter tuning of gradient boosting and random forest"
   ]
  },
  {
   "cell_type": "code",
   "execution_count": null,
   "id": "bef8a43f",
   "metadata": {},
   "outputs": [],
   "source": [
    "from sklearn.ensemble import RandomForestRegressor\n",
    "\n",
    "random = RandomForestRegressor(n_estimators=100,bootstrap= True,\n",
    " criterion='mse',\n",
    " max_depth=25,\n",
    " max_features= 'auto',\n",
    " max_leaf_nodes= None,\n",
    " min_impurity_decrease= 0.0,\n",
    "#  min_impurity_split= None,\n",
    " min_samples_leaf= 1,\n",
    " min_samples_split= 25,\n",
    " min_weight_fraction_leaf=0.0,\n",
    " \n",
    " oob_score= False,\n",
    " random_state= 13,\n",
    " verbose= 0,\n",
    " warm_start=False)\n",
    "random.fit(X_train, y_train)\n",
    "random.score(X_test,y_test)"
   ]
  },
  {
   "cell_type": "code",
   "execution_count": null,
   "id": "27981636",
   "metadata": {},
   "outputs": [],
   "source": []
  },
  {
   "cell_type": "code",
   "execution_count": null,
   "id": "f8a787bb",
   "metadata": {},
   "outputs": [],
   "source": [
    "model=GradientBoostingRegressor(learning_rate=0.04631029918709095, max_depth=6,\n",
    "                          n_estimators=165, subsample=0.4972286575253346)\n",
    "model.fit(X_train,y_train)\n",
    "model.score(X_test,y_test)"
   ]
  },
  {
   "cell_type": "markdown",
   "id": "3fe77be5",
   "metadata": {},
   "source": [
    "We got less accuracy than before"
   ]
  },
  {
   "cell_type": "markdown",
   "id": "a43b3b11",
   "metadata": {},
   "source": [
    "#### Decision Tree"
   ]
  },
  {
   "cell_type": "code",
   "execution_count": null,
   "id": "b2cc0eeb",
   "metadata": {},
   "outputs": [],
   "source": [
    "\n",
    "# import the regressor\n",
    "from sklearn.tree import DecisionTreeRegressor \n",
    "  \n",
    "# create a regressor object\n",
    "regressor = DecisionTreeRegressor(random_state = 0) \n",
    "  \n",
    "# fit the regressor with X and Y data\n",
    "regressor.fit(X_train, y_train)\n",
    "regressor.predict(test)"
   ]
  },
  {
   "cell_type": "code",
   "execution_count": null,
   "id": "d34ef0b2",
   "metadata": {},
   "outputs": [],
   "source": [
    "regressor.score(X_test,y_test)"
   ]
  },
  {
   "cell_type": "code",
   "execution_count": null,
   "id": "a5cd7482",
   "metadata": {},
   "outputs": [],
   "source": []
  },
  {
   "cell_type": "markdown",
   "id": "e5eceb9f",
   "metadata": {},
   "source": [
    "# END"
   ]
  }
 ],
 "metadata": {
  "kernelspec": {
   "display_name": "Python 3 (ipykernel)",
   "language": "python",
   "name": "python3"
  },
  "language_info": {
   "codemirror_mode": {
    "name": "ipython",
    "version": 3
   },
   "file_extension": ".py",
   "mimetype": "text/x-python",
   "name": "python",
   "nbconvert_exporter": "python",
   "pygments_lexer": "ipython3",
   "version": "3.9.12"
  }
 },
 "nbformat": 4,
 "nbformat_minor": 5
}
